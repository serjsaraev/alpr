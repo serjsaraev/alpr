{
 "cells": [
  {
   "cell_type": "code",
   "execution_count": 1,
   "id": "cordless-daughter",
   "metadata": {},
   "outputs": [],
   "source": [
    "import torch\n",
    "import os\n",
    "import albumentations as A\n",
    "\n",
    "from torch.utils.data import DataLoader\n",
    "from torchvision.models.detection import fasterrcnn_resnet50_fpn_v2, FasterRCNN_ResNet50_FPN_V2_Weights\n",
    "from torchvision.models.detection.faster_rcnn import FastRCNNPredictor\n",
    "\n",
    "from dataset import PlatesDataset, collate_fn\n",
    "from fasterrcnn_trainer import ModelTrainer"
   ]
  },
  {
   "cell_type": "code",
   "execution_count": 2,
   "id": "motivated-reduction",
   "metadata": {},
   "outputs": [],
   "source": [
    "## Опеределяем конфигурацию обучения\n",
    "\n",
    "Config = {\n",
    "    # detection train dataset params\n",
    "    'root_path': '../vkcv2022-contest-02-carplates/data/',\n",
    "    'json_path': '../vkcv2022-contest-02-carplates/data/train.json',\n",
    "    'val_size': 0.2,\n",
    "    \n",
    "    # detection training params\n",
    "    'model_name': 'faster_rcnn_v5',\n",
    "    'device': 'cuda:2',\n",
    "    'num_epochs': 20,\n",
    "    'lr': 3e-4,\n",
    "    'batch_size': 16,\n",
    "    'num_workers': 8\n",
    "}"
   ]
  },
  {
   "cell_type": "code",
   "execution_count": 3,
   "id": "positive-letters",
   "metadata": {},
   "outputs": [
    {
     "ename": "FileNotFoundError",
     "evalue": "[Errno 2] No such file or directory: '../vkcv2022-contest-02-carplates/data/train.json'",
     "output_type": "error",
     "traceback": [
      "\u001B[1;31m---------------------------------------------------------------------------\u001B[0m",
      "\u001B[1;31mFileNotFoundError\u001B[0m                         Traceback (most recent call last)",
      "\u001B[1;32m<ipython-input-3-857caf0ad7b9>\u001B[0m in \u001B[0;36m<module>\u001B[1;34m\u001B[0m\n\u001B[0;32m     10\u001B[0m \u001B[1;33m\u001B[0m\u001B[0m\n\u001B[0;32m     11\u001B[0m trainset = PlatesDataset(root_path=Config['root_path'], json_path=Config['json_path'],\n\u001B[1;32m---> 12\u001B[1;33m                          sample_type='train', val_size=Config['val_size'], transform=train_transform)\n\u001B[0m\u001B[0;32m     13\u001B[0m \u001B[1;33m\u001B[0m\u001B[0m\n\u001B[0;32m     14\u001B[0m valset = PlatesDataset(root_path=Config['root_path'], json_path=Config['json_path'],\n",
      "\u001B[1;32m<ipython-input-1-a5634e12e636>\u001B[0m in \u001B[0;36m__init__\u001B[1;34m(self, root_path, json_path, sample_type, val_size, random_state, transform)\u001B[0m\n\u001B[0;32m     24\u001B[0m         \u001B[0mself\u001B[0m\u001B[1;33m.\u001B[0m\u001B[0mtransfrom\u001B[0m \u001B[1;33m=\u001B[0m \u001B[0mtransform\u001B[0m\u001B[1;33m\u001B[0m\u001B[1;33m\u001B[0m\u001B[0m\n\u001B[0;32m     25\u001B[0m \u001B[1;33m\u001B[0m\u001B[0m\n\u001B[1;32m---> 26\u001B[1;33m         \u001B[1;32mwith\u001B[0m \u001B[0mopen\u001B[0m\u001B[1;33m(\u001B[0m\u001B[0mjson_path\u001B[0m\u001B[1;33m,\u001B[0m \u001B[1;34m'r'\u001B[0m\u001B[1;33m)\u001B[0m \u001B[1;32mas\u001B[0m \u001B[0mf\u001B[0m\u001B[1;33m:\u001B[0m\u001B[1;33m\u001B[0m\u001B[1;33m\u001B[0m\u001B[0m\n\u001B[0m\u001B[0;32m     27\u001B[0m             \u001B[0mimg_list\u001B[0m \u001B[1;33m=\u001B[0m \u001B[0mjson\u001B[0m\u001B[1;33m.\u001B[0m\u001B[0mload\u001B[0m\u001B[1;33m(\u001B[0m\u001B[0mf\u001B[0m\u001B[1;33m)\u001B[0m\u001B[1;33m\u001B[0m\u001B[1;33m\u001B[0m\u001B[0m\n\u001B[0;32m     28\u001B[0m \u001B[1;33m\u001B[0m\u001B[0m\n",
      "\u001B[1;31mFileNotFoundError\u001B[0m: [Errno 2] No such file or directory: '../vkcv2022-contest-02-carplates/data/train.json'"
     ]
    }
   ],
   "source": [
    "## Добавляем аугментацию для расширения датасета\n",
    "\n",
    "train_transform = A.Compose([A.HorizontalFlip(p=0.25),\n",
    "                            A.Rotate(limit=(-20, 20), p=0.25),\n",
    "                            A.ColorJitter(brightness=0.3, contrast=0.2, saturation=0.2, hue=0.05, p=0.25)],\n",
    "                            bbox_params={\n",
    "                                        'format': 'pascal_voc',\n",
    "                                        'label_fields': ['labels']\n",
    "                                        })\n",
    "\n",
    "trainset = PlatesDataset(root_path=Config['root_path'], json_path=Config['json_path'],\n",
    "                         sample_type='train', val_size=Config['val_size'], transform=train_transform)\n",
    "\n",
    "valset = PlatesDataset(root_path=Config['root_path'], json_path=Config['json_path'],\n",
    "                       sample_type='val', val_size=Config['val_size'])\n",
    "\n",
    "print('Train size:', len(trainset))\n",
    "print('Val size:', len(valset))"
   ]
  },
  {
   "cell_type": "code",
   "execution_count": null,
   "id": "married-inspection",
   "metadata": {},
   "outputs": [],
   "source": [
    "## Запускаем обучение модели\n",
    "\n",
    "faster_rcnn_model = fasterrcnn_resnet50_fpn_v2(pretrained=True)\n",
    "in_features = faster_rcnn_model.roi_heads.box_predictor.cls_score.in_features\n",
    "faster_rcnn_model.roi_heads.box_predictor = FastRCNNPredictor(in_features, 2)\n",
    "\n",
    "    \n",
    "for param in faster_rcnn_model.backbone.body.parameters():\n",
    "    param.requires_grad = False\n",
    "    \n",
    "for param in faster_rcnn_model.backbone.body.layer4.parameters():\n",
    "    param.requires_grad = True\n",
    "    \n",
    "for name, param in faster_rcnn_model.named_parameters():\n",
    "    print(name, param.requires_grad)\n",
    "    \n",
    "\n",
    "faster_rcnn_model.to(Config['device'])\n",
    "optimizer = torch.optim.AdamW(faster_rcnn_model.parameters(), lr=Config['lr'])\n",
    "\n",
    "\n",
    "train_loader = DataLoader(trainset, batch_size=Config['batch_size'], shuffle=True, \n",
    "                          collate_fn=collate_fn, num_workers=Config['num_workers'])\n",
    "val_loader = DataLoader(valset, batch_size=Config['batch_size'], shuffle=False, \n",
    "                        collate_fn=collate_fn, num_workers=Config['num_workers'])\n",
    "\n",
    "\n",
    "scheduller = torch.optim.lr_scheduler.OneCycleLR(optimizer=optimizer, max_lr=Config['lr'], \n",
    "                                                 steps_per_epoch=len(train_loader), \n",
    "                                                epochs=Config['num_epochs'], pct_start=0.05, anneal_strategy='cos')\n",
    "\n",
    "\n",
    "model_trainer = ModelTrainer(model=faster_rcnn_model, model_name=Config['model_name'], \n",
    "                             train_loader=train_loader, val_loader=val_loader,\n",
    "                            optimizer=optimizer, scheduller=scheduller, device=Config['device'], val_classes=[1])\n",
    "\n",
    "model_trainer.train_net(num_epochs=Config['num_epochs'])"
   ]
  },
  {
   "cell_type": "markdown",
   "id": "renewable-closer",
   "metadata": {
    "pycharm": {
     "name": "#%% md\n"
    }
   },
   "source": [
    "Обучили модель деткции Faster_rcnn на 20 эпох:\n",
    "\n",
    "Лучшая метрика MAP50_95 = 77.9%     \n",
    "\n",
    "Логи обучения: 'Logs/faster_rcnn_v5.txt'"
   ]
  }
 ],
 "metadata": {
  "kernelspec": {
   "display_name": "Python 3",
   "language": "python",
   "name": "python3"
  },
  "language_info": {
   "codemirror_mode": {
    "name": "ipython",
    "version": 3
   },
   "file_extension": ".py",
   "mimetype": "text/x-python",
   "name": "python",
   "nbconvert_exporter": "python",
   "pygments_lexer": "ipython3",
   "version": "3.7.2"
  }
 },
 "nbformat": 4,
 "nbformat_minor": 5
}