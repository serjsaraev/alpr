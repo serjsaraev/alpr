{
 "cells": [
  {
   "cell_type": "code",
   "execution_count": 1,
   "id": "cordless-daughter",
   "metadata": {},
   "outputs": [
    {
     "name": "stderr",
     "output_type": "stream",
     "text": [
      "/home/ndubrovnyi/.conda/envs/venv/lib/python3.9/site-packages/tqdm/auto.py:22: TqdmWarning: IProgress not found. Please update jupyter and ipywidgets. See https://ipywidgets.readthedocs.io/en/stable/user_install.html\n",
      "  from .autonotebook import tqdm as notebook_tqdm\n"
     ]
    }
   ],
   "source": [
    "import torch\n",
    "import os\n",
    "import albumentations as A\n",
    "\n",
    "from torch.utils.data import DataLoader\n",
    "from torchvision.models.detection import fasterrcnn_resnet50_fpn_v2, FasterRCNN_ResNet50_FPN_V2_Weights\n",
    "from torchvision.models.detection.faster_rcnn import FastRCNNPredictor\n",
    "\n",
    "from dataset import PlatesDataset, collate_fn\n",
    "from fasterrcnn_trainer import ModelTrainer"
   ]
  },
  {
   "cell_type": "code",
   "execution_count": 5,
   "id": "motivated-reduction",
   "metadata": {},
   "outputs": [],
   "source": [
    "## Опеределяем конфигурацию обучения\n",
    "\n",
    "Config = {\n",
    "    # detection train dataset params\n",
    "    'root_path': '../vkcv2022-contest-02-carplates/data/',\n",
    "    'json_path': '../vkcv2022-contest-02-carplates/data/train.json',\n",
    "    'val_size': 0.2,\n",
    "    \n",
    "    # detection training params\n",
    "    'model_name': 'faster_rcnn_v6',\n",
    "    'device': 'cuda:2',\n",
    "    'num_epochs': 20,\n",
    "    'lr': 3e-4,\n",
    "    'batch_size': 16,\n",
    "    'num_workers': 8\n",
    "}"
   ]
  },
  {
   "cell_type": "code",
   "execution_count": 6,
   "id": "positive-letters",
   "metadata": {},
   "outputs": [
    {
     "name": "stdout",
     "output_type": "stream",
     "text": [
      "Train size: 20506\n",
      "Val size: 5127\n"
     ]
    }
   ],
   "source": [
    "## Добавляем аугментацию для расширения датасета\n",
    "\n",
    "train_transform = A.Compose([A.HorizontalFlip(p=0.25),\n",
    "                            A.Rotate(limit=(-20, 20), p=0.25),\n",
    "                            A.ColorJitter(brightness=0.3, contrast=0.2, saturation=0.2, hue=0.05, p=0.25)],\n",
    "                            bbox_params={\n",
    "                                        'format': 'pascal_voc',\n",
    "                                        'label_fields': ['labels']\n",
    "                                        })\n",
    "\n",
    "trainset = PlatesDataset(root_path=Config['root_path'], json_path=Config['json_path'],\n",
    "                         sample_type='train', val_size=Config['val_size'], transform=train_transform)\n",
    "\n",
    "valset = PlatesDataset(root_path=Config['root_path'], json_path=Config['json_path'],\n",
    "                       sample_type='val', val_size=Config['val_size'])\n",
    "\n",
    "print('Train size:', len(trainset))\n",
    "print('Val size:', len(valset))"
   ]
  },
  {
   "cell_type": "code",
   "execution_count": 7,
   "id": "married-inspection",
   "metadata": {},
   "outputs": [
    {
     "name": "stdout",
     "output_type": "stream",
     "text": [
      "backbone.body.conv1.weight False\n",
      "backbone.body.bn1.weight False\n",
      "backbone.body.bn1.bias False\n",
      "backbone.body.layer1.0.conv1.weight False\n",
      "backbone.body.layer1.0.bn1.weight False\n",
      "backbone.body.layer1.0.bn1.bias False\n",
      "backbone.body.layer1.0.conv2.weight False\n",
      "backbone.body.layer1.0.bn2.weight False\n",
      "backbone.body.layer1.0.bn2.bias False\n",
      "backbone.body.layer1.0.conv3.weight False\n",
      "backbone.body.layer1.0.bn3.weight False\n",
      "backbone.body.layer1.0.bn3.bias False\n",
      "backbone.body.layer1.0.downsample.0.weight False\n",
      "backbone.body.layer1.0.downsample.1.weight False\n",
      "backbone.body.layer1.0.downsample.1.bias False\n",
      "backbone.body.layer1.1.conv1.weight False\n",
      "backbone.body.layer1.1.bn1.weight False\n",
      "backbone.body.layer1.1.bn1.bias False\n",
      "backbone.body.layer1.1.conv2.weight False\n",
      "backbone.body.layer1.1.bn2.weight False\n",
      "backbone.body.layer1.1.bn2.bias False\n",
      "backbone.body.layer1.1.conv3.weight False\n",
      "backbone.body.layer1.1.bn3.weight False\n",
      "backbone.body.layer1.1.bn3.bias False\n",
      "backbone.body.layer1.2.conv1.weight False\n",
      "backbone.body.layer1.2.bn1.weight False\n",
      "backbone.body.layer1.2.bn1.bias False\n",
      "backbone.body.layer1.2.conv2.weight False\n",
      "backbone.body.layer1.2.bn2.weight False\n",
      "backbone.body.layer1.2.bn2.bias False\n",
      "backbone.body.layer1.2.conv3.weight False\n",
      "backbone.body.layer1.2.bn3.weight False\n",
      "backbone.body.layer1.2.bn3.bias False\n",
      "backbone.body.layer2.0.conv1.weight False\n",
      "backbone.body.layer2.0.bn1.weight False\n",
      "backbone.body.layer2.0.bn1.bias False\n",
      "backbone.body.layer2.0.conv2.weight False\n",
      "backbone.body.layer2.0.bn2.weight False\n",
      "backbone.body.layer2.0.bn2.bias False\n",
      "backbone.body.layer2.0.conv3.weight False\n",
      "backbone.body.layer2.0.bn3.weight False\n",
      "backbone.body.layer2.0.bn3.bias False\n",
      "backbone.body.layer2.0.downsample.0.weight False\n",
      "backbone.body.layer2.0.downsample.1.weight False\n",
      "backbone.body.layer2.0.downsample.1.bias False\n",
      "backbone.body.layer2.1.conv1.weight False\n",
      "backbone.body.layer2.1.bn1.weight False\n",
      "backbone.body.layer2.1.bn1.bias False\n",
      "backbone.body.layer2.1.conv2.weight False\n",
      "backbone.body.layer2.1.bn2.weight False\n",
      "backbone.body.layer2.1.bn2.bias False\n",
      "backbone.body.layer2.1.conv3.weight False\n",
      "backbone.body.layer2.1.bn3.weight False\n",
      "backbone.body.layer2.1.bn3.bias False\n",
      "backbone.body.layer2.2.conv1.weight False\n",
      "backbone.body.layer2.2.bn1.weight False\n",
      "backbone.body.layer2.2.bn1.bias False\n",
      "backbone.body.layer2.2.conv2.weight False\n",
      "backbone.body.layer2.2.bn2.weight False\n",
      "backbone.body.layer2.2.bn2.bias False\n",
      "backbone.body.layer2.2.conv3.weight False\n",
      "backbone.body.layer2.2.bn3.weight False\n",
      "backbone.body.layer2.2.bn3.bias False\n",
      "backbone.body.layer2.3.conv1.weight False\n",
      "backbone.body.layer2.3.bn1.weight False\n",
      "backbone.body.layer2.3.bn1.bias False\n",
      "backbone.body.layer2.3.conv2.weight False\n",
      "backbone.body.layer2.3.bn2.weight False\n",
      "backbone.body.layer2.3.bn2.bias False\n",
      "backbone.body.layer2.3.conv3.weight False\n",
      "backbone.body.layer2.3.bn3.weight False\n",
      "backbone.body.layer2.3.bn3.bias False\n",
      "backbone.body.layer3.0.conv1.weight False\n",
      "backbone.body.layer3.0.bn1.weight False\n",
      "backbone.body.layer3.0.bn1.bias False\n",
      "backbone.body.layer3.0.conv2.weight False\n",
      "backbone.body.layer3.0.bn2.weight False\n",
      "backbone.body.layer3.0.bn2.bias False\n",
      "backbone.body.layer3.0.conv3.weight False\n",
      "backbone.body.layer3.0.bn3.weight False\n",
      "backbone.body.layer3.0.bn3.bias False\n",
      "backbone.body.layer3.0.downsample.0.weight False\n",
      "backbone.body.layer3.0.downsample.1.weight False\n",
      "backbone.body.layer3.0.downsample.1.bias False\n",
      "backbone.body.layer3.1.conv1.weight False\n",
      "backbone.body.layer3.1.bn1.weight False\n",
      "backbone.body.layer3.1.bn1.bias False\n",
      "backbone.body.layer3.1.conv2.weight False\n",
      "backbone.body.layer3.1.bn2.weight False\n",
      "backbone.body.layer3.1.bn2.bias False\n",
      "backbone.body.layer3.1.conv3.weight False\n",
      "backbone.body.layer3.1.bn3.weight False\n",
      "backbone.body.layer3.1.bn3.bias False\n",
      "backbone.body.layer3.2.conv1.weight False\n",
      "backbone.body.layer3.2.bn1.weight False\n",
      "backbone.body.layer3.2.bn1.bias False\n",
      "backbone.body.layer3.2.conv2.weight False\n",
      "backbone.body.layer3.2.bn2.weight False\n",
      "backbone.body.layer3.2.bn2.bias False\n",
      "backbone.body.layer3.2.conv3.weight False\n",
      "backbone.body.layer3.2.bn3.weight False\n",
      "backbone.body.layer3.2.bn3.bias False\n",
      "backbone.body.layer3.3.conv1.weight False\n",
      "backbone.body.layer3.3.bn1.weight False\n",
      "backbone.body.layer3.3.bn1.bias False\n",
      "backbone.body.layer3.3.conv2.weight False\n",
      "backbone.body.layer3.3.bn2.weight False\n",
      "backbone.body.layer3.3.bn2.bias False\n",
      "backbone.body.layer3.3.conv3.weight False\n",
      "backbone.body.layer3.3.bn3.weight False\n",
      "backbone.body.layer3.3.bn3.bias False\n",
      "backbone.body.layer3.4.conv1.weight False\n",
      "backbone.body.layer3.4.bn1.weight False\n",
      "backbone.body.layer3.4.bn1.bias False\n",
      "backbone.body.layer3.4.conv2.weight False\n",
      "backbone.body.layer3.4.bn2.weight False\n",
      "backbone.body.layer3.4.bn2.bias False\n",
      "backbone.body.layer3.4.conv3.weight False\n",
      "backbone.body.layer3.4.bn3.weight False\n",
      "backbone.body.layer3.4.bn3.bias False\n",
      "backbone.body.layer3.5.conv1.weight False\n",
      "backbone.body.layer3.5.bn1.weight False\n",
      "backbone.body.layer3.5.bn1.bias False\n",
      "backbone.body.layer3.5.conv2.weight False\n",
      "backbone.body.layer3.5.bn2.weight False\n",
      "backbone.body.layer3.5.bn2.bias False\n",
      "backbone.body.layer3.5.conv3.weight False\n",
      "backbone.body.layer3.5.bn3.weight False\n",
      "backbone.body.layer3.5.bn3.bias False\n",
      "backbone.body.layer4.0.conv1.weight True\n",
      "backbone.body.layer4.0.bn1.weight True\n",
      "backbone.body.layer4.0.bn1.bias True\n",
      "backbone.body.layer4.0.conv2.weight True\n",
      "backbone.body.layer4.0.bn2.weight True\n",
      "backbone.body.layer4.0.bn2.bias True\n",
      "backbone.body.layer4.0.conv3.weight True\n",
      "backbone.body.layer4.0.bn3.weight True\n",
      "backbone.body.layer4.0.bn3.bias True\n",
      "backbone.body.layer4.0.downsample.0.weight True\n",
      "backbone.body.layer4.0.downsample.1.weight True\n",
      "backbone.body.layer4.0.downsample.1.bias True\n",
      "backbone.body.layer4.1.conv1.weight True\n",
      "backbone.body.layer4.1.bn1.weight True\n",
      "backbone.body.layer4.1.bn1.bias True\n",
      "backbone.body.layer4.1.conv2.weight True\n",
      "backbone.body.layer4.1.bn2.weight True\n",
      "backbone.body.layer4.1.bn2.bias True\n",
      "backbone.body.layer4.1.conv3.weight True\n",
      "backbone.body.layer4.1.bn3.weight True\n",
      "backbone.body.layer4.1.bn3.bias True\n",
      "backbone.body.layer4.2.conv1.weight True\n",
      "backbone.body.layer4.2.bn1.weight True\n",
      "backbone.body.layer4.2.bn1.bias True\n",
      "backbone.body.layer4.2.conv2.weight True\n",
      "backbone.body.layer4.2.bn2.weight True\n",
      "backbone.body.layer4.2.bn2.bias True\n",
      "backbone.body.layer4.2.conv3.weight True\n",
      "backbone.body.layer4.2.bn3.weight True\n",
      "backbone.body.layer4.2.bn3.bias True\n",
      "backbone.fpn.inner_blocks.0.0.weight True\n",
      "backbone.fpn.inner_blocks.0.1.weight True\n",
      "backbone.fpn.inner_blocks.0.1.bias True\n",
      "backbone.fpn.inner_blocks.1.0.weight True\n",
      "backbone.fpn.inner_blocks.1.1.weight True\n",
      "backbone.fpn.inner_blocks.1.1.bias True\n",
      "backbone.fpn.inner_blocks.2.0.weight True\n",
      "backbone.fpn.inner_blocks.2.1.weight True\n",
      "backbone.fpn.inner_blocks.2.1.bias True\n",
      "backbone.fpn.inner_blocks.3.0.weight True\n",
      "backbone.fpn.inner_blocks.3.1.weight True\n",
      "backbone.fpn.inner_blocks.3.1.bias True\n",
      "backbone.fpn.layer_blocks.0.0.weight True\n",
      "backbone.fpn.layer_blocks.0.1.weight True\n",
      "backbone.fpn.layer_blocks.0.1.bias True\n",
      "backbone.fpn.layer_blocks.1.0.weight True\n",
      "backbone.fpn.layer_blocks.1.1.weight True\n",
      "backbone.fpn.layer_blocks.1.1.bias True\n",
      "backbone.fpn.layer_blocks.2.0.weight True\n",
      "backbone.fpn.layer_blocks.2.1.weight True\n",
      "backbone.fpn.layer_blocks.2.1.bias True\n",
      "backbone.fpn.layer_blocks.3.0.weight True\n",
      "backbone.fpn.layer_blocks.3.1.weight True\n",
      "backbone.fpn.layer_blocks.3.1.bias True\n",
      "rpn.head.conv.0.0.weight True\n",
      "rpn.head.conv.0.0.bias True\n",
      "rpn.head.conv.1.0.weight True\n",
      "rpn.head.conv.1.0.bias True\n",
      "rpn.head.cls_logits.weight True\n",
      "rpn.head.cls_logits.bias True\n",
      "rpn.head.bbox_pred.weight True\n",
      "rpn.head.bbox_pred.bias True\n",
      "roi_heads.box_head.0.0.weight True\n",
      "roi_heads.box_head.0.1.weight True\n",
      "roi_heads.box_head.0.1.bias True\n",
      "roi_heads.box_head.1.0.weight True\n",
      "roi_heads.box_head.1.1.weight True\n",
      "roi_heads.box_head.1.1.bias True\n",
      "roi_heads.box_head.2.0.weight True\n",
      "roi_heads.box_head.2.1.weight True\n",
      "roi_heads.box_head.2.1.bias True\n",
      "roi_heads.box_head.3.0.weight True\n",
      "roi_heads.box_head.3.1.weight True\n",
      "roi_heads.box_head.3.1.bias True\n",
      "roi_heads.box_head.5.weight True\n",
      "roi_heads.box_head.5.bias True\n",
      "roi_heads.box_predictor.cls_score.weight True\n",
      "roi_heads.box_predictor.cls_score.bias True\n",
      "roi_heads.box_predictor.bbox_pred.weight True\n",
      "roi_heads.box_predictor.bbox_pred.bias True\n"
     ]
    },
    {
     "name": "stderr",
     "output_type": "stream",
     "text": [
      "1it [00:02,  2.99s/it]"
     ]
    },
    {
     "name": "stdout",
     "output_type": "stream",
     "text": [
      "Global Loss: 1.4458268880844116\n",
      "Object Loss: 0.693958044052124\n",
      "Reg Loss: 0.01906971074640751\n"
     ]
    },
    {
     "name": "stderr",
     "output_type": "stream",
     "text": [
      "21it [00:38,  1.86s/it]"
     ]
    },
    {
     "name": "stdout",
     "output_type": "stream",
     "text": [
      "Global Loss: 0.8208143711090088\n",
      "Object Loss: 0.6799728331111726\n",
      "Reg Loss: 0.013976888731122017\n"
     ]
    },
    {
     "name": "stderr",
     "output_type": "stream",
     "text": [
      "41it [01:13,  1.75s/it]"
     ]
    },
    {
     "name": "stdout",
     "output_type": "stream",
     "text": [
      "Global Loss: 0.7583038719688974\n",
      "Object Loss: 0.6637648169587298\n",
      "Reg Loss: 0.013393317576406933\n"
     ]
    },
    {
     "name": "stderr",
     "output_type": "stream",
     "text": [
      "61it [01:50,  1.79s/it]"
     ]
    },
    {
     "name": "stdout",
     "output_type": "stream",
     "text": [
      "Global Loss: 0.7178498223179677\n",
      "Object Loss: 0.63982320906686\n",
      "Reg Loss: 0.013498422659200723\n"
     ]
    },
    {
     "name": "stderr",
     "output_type": "stream",
     "text": [
      "65it [01:58,  1.93s/it]"
     ]
    },
    {
     "name": "stdout",
     "output_type": "stream",
     "text": [
      "Cant open image\n"
     ]
    },
    {
     "name": "stderr",
     "output_type": "stream",
     "text": [
      "81it [02:26,  1.77s/it]"
     ]
    },
    {
     "name": "stdout",
     "output_type": "stream",
     "text": [
      "Global Loss: 0.6671336473506174\n",
      "Object Loss: 0.5992214032161383\n",
      "Reg Loss: 0.013180301685668068\n"
     ]
    },
    {
     "name": "stderr",
     "output_type": "stream",
     "text": [
      "101it [03:02,  1.82s/it]"
     ]
    },
    {
     "name": "stdout",
     "output_type": "stream",
     "text": [
      "Global Loss: 0.6001835683784863\n",
      "Object Loss: 0.5387743957857094\n",
      "Reg Loss: 0.013021771072197964\n"
     ]
    },
    {
     "name": "stderr",
     "output_type": "stream",
     "text": [
      "121it [03:37,  1.77s/it]"
     ]
    },
    {
     "name": "stdout",
     "output_type": "stream",
     "text": [
      "Global Loss: 0.5320547916426146\n",
      "Object Loss: 0.4748248361851558\n",
      "Reg Loss: 0.012627486732195724\n"
     ]
    },
    {
     "name": "stderr",
     "output_type": "stream",
     "text": [
      "141it [04:12,  1.73s/it]"
     ]
    },
    {
     "name": "stdout",
     "output_type": "stream",
     "text": [
      "Global Loss: 0.4771823488862802\n",
      "Object Loss: 0.4202825179231082\n",
      "Reg Loss: 0.012182108314826768\n"
     ]
    },
    {
     "name": "stderr",
     "output_type": "stream",
     "text": [
      "161it [04:48,  1.74s/it]"
     ]
    },
    {
     "name": "stdout",
     "output_type": "stream",
     "text": [
      "Global Loss: 0.43607344408953413\n",
      "Object Loss: 0.3775164117539151\n",
      "Reg Loss: 0.011858109017452283\n"
     ]
    },
    {
     "name": "stderr",
     "output_type": "stream",
     "text": [
      "181it [05:24,  1.85s/it]"
     ]
    },
    {
     "name": "stdout",
     "output_type": "stream",
     "text": [
      "Global Loss: 0.4033419874326959\n",
      "Object Loss: 0.34254954944658017\n",
      "Reg Loss: 0.011587528475863829\n"
     ]
    },
    {
     "name": "stderr",
     "output_type": "stream",
     "text": [
      "201it [06:01,  1.83s/it]"
     ]
    },
    {
     "name": "stdout",
     "output_type": "stream",
     "text": [
      "Global Loss: 0.37642545301226243\n",
      "Object Loss: 0.3136847913450566\n",
      "Reg Loss: 0.011426927262351881\n"
     ]
    },
    {
     "name": "stderr",
     "output_type": "stream",
     "text": [
      "221it [06:37,  1.89s/it]"
     ]
    },
    {
     "name": "stdout",
     "output_type": "stream",
     "text": [
      "Global Loss: 0.3548513698766674\n",
      "Object Loss: 0.28944544741942874\n",
      "Reg Loss: 0.011219296043915717\n"
     ]
    },
    {
     "name": "stderr",
     "output_type": "stream",
     "text": [
      "234it [06:59,  1.73s/it]"
     ]
    },
    {
     "name": "stdout",
     "output_type": "stream",
     "text": [
      "Cant do augmention\n"
     ]
    },
    {
     "name": "stderr",
     "output_type": "stream",
     "text": [
      "241it [07:12,  1.72s/it]"
     ]
    },
    {
     "name": "stdout",
     "output_type": "stream",
     "text": [
      "Global Loss: 0.3360734400474679\n",
      "Object Loss: 0.2688335240412797\n",
      "Reg Loss: 0.010963635289214582\n"
     ]
    },
    {
     "name": "stderr",
     "output_type": "stream",
     "text": [
      "261it [07:48,  1.94s/it]"
     ]
    },
    {
     "name": "stdout",
     "output_type": "stream",
     "text": [
      "Global Loss: 0.3198611654084304\n",
      "Object Loss: 0.2507451787605254\n",
      "Reg Loss: 0.010791099783732517\n"
     ]
    },
    {
     "name": "stderr",
     "output_type": "stream",
     "text": [
      "281it [08:24,  1.78s/it]"
     ]
    },
    {
     "name": "stdout",
     "output_type": "stream",
     "text": [
      "Global Loss: 0.3059333772050528\n",
      "Object Loss: 0.2353672096870336\n",
      "Reg Loss: 0.010725146600333609\n"
     ]
    },
    {
     "name": "stderr",
     "output_type": "stream",
     "text": [
      "301it [08:59,  1.75s/it]"
     ]
    },
    {
     "name": "stdout",
     "output_type": "stream",
     "text": [
      "Global Loss: 0.2939359432587592\n",
      "Object Loss: 0.22186848339299822\n",
      "Reg Loss: 0.010702459169458908\n"
     ]
    },
    {
     "name": "stderr",
     "output_type": "stream",
     "text": [
      "321it [09:34,  1.74s/it]"
     ]
    },
    {
     "name": "stdout",
     "output_type": "stream",
     "text": [
      "Global Loss: 0.2831192391915856\n",
      "Object Loss: 0.20949874769002663\n",
      "Reg Loss: 0.010587209603543223\n"
     ]
    },
    {
     "name": "stderr",
     "output_type": "stream",
     "text": [
      "341it [10:10,  1.80s/it]"
     ]
    },
    {
     "name": "stdout",
     "output_type": "stream",
     "text": [
      "Global Loss: 0.2740230029803917\n",
      "Object Loss: 0.19888886133389128\n",
      "Reg Loss: 0.010518239436895092\n"
     ]
    },
    {
     "name": "stderr",
     "output_type": "stream",
     "text": [
      "361it [10:45,  1.80s/it]"
     ]
    },
    {
     "name": "stdout",
     "output_type": "stream",
     "text": [
      "Global Loss: 0.26543839156132326\n",
      "Object Loss: 0.18940856398039413\n",
      "Reg Loss: 0.010442223577886572\n"
     ]
    },
    {
     "name": "stderr",
     "output_type": "stream",
     "text": [
      "381it [11:21,  1.84s/it]"
     ]
    },
    {
     "name": "stdout",
     "output_type": "stream",
     "text": [
      "Global Loss: 0.2577835747732578\n",
      "Object Loss: 0.18093386671342093\n",
      "Reg Loss: 0.010370220821546367\n"
     ]
    },
    {
     "name": "stderr",
     "output_type": "stream",
     "text": [
      "401it [11:55,  1.74s/it]"
     ]
    },
    {
     "name": "stdout",
     "output_type": "stream",
     "text": [
      "Global Loss: 0.2506081809724061\n",
      "Object Loss: 0.17311468659122092\n",
      "Reg Loss: 0.010284634662369391\n"
     ]
    },
    {
     "name": "stderr",
     "output_type": "stream",
     "text": [
      "405it [12:02,  1.73s/it]"
     ]
    },
    {
     "name": "stdout",
     "output_type": "stream",
     "text": [
      "Cant open image\n"
     ]
    },
    {
     "name": "stderr",
     "output_type": "stream",
     "text": [
      "421it [12:30,  1.79s/it]"
     ]
    },
    {
     "name": "stdout",
     "output_type": "stream",
     "text": [
      "Global Loss: 0.24406240749529026\n",
      "Object Loss: 0.16588046482704455\n",
      "Reg Loss: 0.010219773442446832\n"
     ]
    },
    {
     "name": "stderr",
     "output_type": "stream",
     "text": [
      "441it [13:06,  1.78s/it]"
     ]
    },
    {
     "name": "stdout",
     "output_type": "stream",
     "text": [
      "Global Loss: 0.2381531512554811\n",
      "Object Loss: 0.15937276645785287\n",
      "Reg Loss: 0.01017001829724632\n"
     ]
    },
    {
     "name": "stderr",
     "output_type": "stream",
     "text": [
      "461it [13:41,  1.75s/it]"
     ]
    },
    {
     "name": "stdout",
     "output_type": "stream",
     "text": [
      "Global Loss: 0.23257876809791475\n",
      "Object Loss: 0.1532243105992998\n",
      "Reg Loss: 0.010092566177701484\n"
     ]
    },
    {
     "name": "stderr",
     "output_type": "stream",
     "text": [
      "481it [14:17,  1.91s/it]"
     ]
    },
    {
     "name": "stdout",
     "output_type": "stream",
     "text": [
      "Global Loss: 0.2272038629081046\n",
      "Object Loss: 0.14765477913921687\n",
      "Reg Loss: 0.010031143923652147\n"
     ]
    },
    {
     "name": "stderr",
     "output_type": "stream",
     "text": [
      "501it [14:53,  1.76s/it]"
     ]
    },
    {
     "name": "stdout",
     "output_type": "stream",
     "text": [
      "Global Loss: 0.22225543187406963\n",
      "Object Loss: 0.14255446669071198\n",
      "Reg Loss: 0.009998176386301032\n"
     ]
    },
    {
     "name": "stderr",
     "output_type": "stream",
     "text": [
      "521it [15:28,  1.78s/it]"
     ]
    },
    {
     "name": "stdout",
     "output_type": "stream",
     "text": [
      "Global Loss: 0.21772481147879144\n",
      "Object Loss: 0.13779860591040405\n",
      "Reg Loss: 0.009932715022997241\n"
     ]
    },
    {
     "name": "stderr",
     "output_type": "stream",
     "text": [
      "541it [16:04,  1.72s/it]"
     ]
    },
    {
     "name": "stdout",
     "output_type": "stream",
     "text": [
      "Global Loss: 0.2135380586530056\n",
      "Object Loss: 0.1333525210701604\n",
      "Reg Loss: 0.009890878764144705\n"
     ]
    },
    {
     "name": "stderr",
     "output_type": "stream",
     "text": [
      "561it [16:39,  1.73s/it]"
     ]
    },
    {
     "name": "stdout",
     "output_type": "stream",
     "text": [
      "Global Loss: 0.20950415298847377\n",
      "Object Loss: 0.12924102811000032\n",
      "Reg Loss: 0.009875416211159683\n"
     ]
    },
    {
     "name": "stderr",
     "output_type": "stream",
     "text": [
      "581it [17:16,  1.78s/it]"
     ]
    },
    {
     "name": "stdout",
     "output_type": "stream",
     "text": [
      "Global Loss: 0.2054147537085973\n",
      "Object Loss: 0.12521319310365184\n",
      "Reg Loss: 0.009814303813152746\n"
     ]
    },
    {
     "name": "stderr",
     "output_type": "stream",
     "text": [
      "601it [17:52,  1.75s/it]"
     ]
    },
    {
     "name": "stdout",
     "output_type": "stream",
     "text": [
      "Global Loss: 0.20191282790135623\n",
      "Object Loss: 0.12158483453947251\n",
      "Reg Loss: 0.009750189161247352\n"
     ]
    },
    {
     "name": "stderr",
     "output_type": "stream",
     "text": [
      "621it [18:27,  1.76s/it]"
     ]
    },
    {
     "name": "stdout",
     "output_type": "stream",
     "text": [
      "Global Loss: 0.1984795775750409\n",
      "Object Loss: 0.11812657832682445\n",
      "Reg Loss: 0.009686576365230787\n"
     ]
    },
    {
     "name": "stderr",
     "output_type": "stream",
     "text": [
      "641it [19:02,  1.77s/it]"
     ]
    },
    {
     "name": "stdout",
     "output_type": "stream",
     "text": [
      "Global Loss: 0.19545420760204565\n",
      "Object Loss: 0.11515333838310447\n",
      "Reg Loss: 0.009680291358817386\n"
     ]
    },
    {
     "name": "stderr",
     "output_type": "stream",
     "text": [
      "661it [19:37,  1.77s/it]"
     ]
    },
    {
     "name": "stdout",
     "output_type": "stream",
     "text": [
      "Global Loss: 0.19241303657484488\n",
      "Object Loss: 0.11216954876839236\n",
      "Reg Loss: 0.009641539998656863\n"
     ]
    },
    {
     "name": "stderr",
     "output_type": "stream",
     "text": [
      "681it [20:12,  1.71s/it]"
     ]
    },
    {
     "name": "stdout",
     "output_type": "stream",
     "text": [
      "Global Loss: 0.18935027643053542\n",
      "Object Loss: 0.10928153574245157\n",
      "Reg Loss: 0.009595694219373528\n"
     ]
    },
    {
     "name": "stderr",
     "output_type": "stream",
     "text": [
      "701it [20:48,  1.76s/it]"
     ]
    },
    {
     "name": "stdout",
     "output_type": "stream",
     "text": [
      "Global Loss: 0.18665019393009738\n",
      "Object Loss: 0.10652250490189874\n",
      "Reg Loss: 0.009541013636114806\n"
     ]
    },
    {
     "name": "stderr",
     "output_type": "stream",
     "text": [
      "721it [21:23,  1.76s/it]"
     ]
    },
    {
     "name": "stdout",
     "output_type": "stream",
     "text": [
      "Global Loss: 0.1840706140980972\n",
      "Object Loss: 0.10402813299472512\n",
      "Reg Loss: 0.009532492717627265\n"
     ]
    },
    {
     "name": "stderr",
     "output_type": "stream",
     "text": [
      "741it [21:59,  1.76s/it]"
     ]
    },
    {
     "name": "stdout",
     "output_type": "stream",
     "text": [
      "Global Loss: 0.18150880186241647\n",
      "Object Loss: 0.10169036990577071\n",
      "Reg Loss: 0.009494455529982664\n"
     ]
    },
    {
     "name": "stderr",
     "output_type": "stream",
     "text": [
      "761it [22:34,  1.86s/it]"
     ]
    },
    {
     "name": "stdout",
     "output_type": "stream",
     "text": [
      "Global Loss: 0.17915118483241535\n",
      "Object Loss: 0.09952466987665748\n",
      "Reg Loss: 0.009474649710847499\n"
     ]
    },
    {
     "name": "stderr",
     "output_type": "stream",
     "text": [
      "763it [22:38,  1.80s/it]"
     ]
    },
    {
     "name": "stdout",
     "output_type": "stream",
     "text": [
      "Cant open image\n"
     ]
    },
    {
     "name": "stderr",
     "output_type": "stream",
     "text": [
      "781it [23:10,  1.80s/it]"
     ]
    },
    {
     "name": "stdout",
     "output_type": "stream",
     "text": [
      "Global Loss: 0.17681994293452682\n",
      "Object Loss: 0.0973633773649939\n",
      "Reg Loss: 0.009432376782134386\n"
     ]
    },
    {
     "name": "stderr",
     "output_type": "stream",
     "text": [
      "801it [23:46,  1.82s/it]"
     ]
    },
    {
     "name": "stdout",
     "output_type": "stream",
     "text": [
      "Global Loss: 0.17476697521430723\n",
      "Object Loss: 0.09520711504404297\n",
      "Reg Loss: 0.009362371872701263\n"
     ]
    },
    {
     "name": "stderr",
     "output_type": "stream",
     "text": [
      "821it [24:21,  1.74s/it]"
     ]
    },
    {
     "name": "stdout",
     "output_type": "stream",
     "text": [
      "Global Loss: 0.17272736589071522\n",
      "Object Loss: 0.09329120224527787\n",
      "Reg Loss: 0.00931148008521687\n"
     ]
    },
    {
     "name": "stderr",
     "output_type": "stream",
     "text": [
      "841it [24:56,  1.76s/it]"
     ]
    },
    {
     "name": "stdout",
     "output_type": "stream",
     "text": [
      "Global Loss: 0.17054468598416103\n",
      "Object Loss: 0.0913861815842017\n",
      "Reg Loss: 0.009259011232106993\n"
     ]
    },
    {
     "name": "stderr",
     "output_type": "stream",
     "text": [
      "861it [25:32,  1.84s/it]"
     ]
    },
    {
     "name": "stdout",
     "output_type": "stream",
     "text": [
      "Global Loss: 0.1685725235868068\n",
      "Object Loss: 0.08961405484525013\n",
      "Reg Loss: 0.009225141824386433\n"
     ]
    },
    {
     "name": "stderr",
     "output_type": "stream",
     "text": [
      "881it [26:08,  1.77s/it]"
     ]
    },
    {
     "name": "stdout",
     "output_type": "stream",
     "text": [
      "Global Loss: 0.1667727367248424\n",
      "Object Loss: 0.08795968754107088\n",
      "Reg Loss: 0.009213370425366584\n"
     ]
    },
    {
     "name": "stderr",
     "output_type": "stream",
     "text": [
      "901it [26:44,  1.75s/it]"
     ]
    },
    {
     "name": "stdout",
     "output_type": "stream",
     "text": [
      "Global Loss: 0.164979947885947\n",
      "Object Loss: 0.08625201574866799\n",
      "Reg Loss: 0.00919349626746529\n"
     ]
    },
    {
     "name": "stderr",
     "output_type": "stream",
     "text": [
      "921it [27:19,  1.77s/it]"
     ]
    },
    {
     "name": "stdout",
     "output_type": "stream",
     "text": [
      "Global Loss: 0.16329399369713668\n",
      "Object Loss: 0.08462426311464881\n",
      "Reg Loss: 0.009155541134090138\n"
     ]
    },
    {
     "name": "stderr",
     "output_type": "stream",
     "text": [
      "941it [27:56,  1.93s/it]"
     ]
    },
    {
     "name": "stdout",
     "output_type": "stream",
     "text": [
      "Global Loss: 0.1615258165448112\n",
      "Object Loss: 0.08308492806481789\n",
      "Reg Loss: 0.009118703626468381\n"
     ]
    },
    {
     "name": "stderr",
     "output_type": "stream",
     "text": [
      "961it [28:32,  1.74s/it]"
     ]
    },
    {
     "name": "stdout",
     "output_type": "stream",
     "text": [
      "Global Loss: 0.16001783485420662\n",
      "Object Loss: 0.08161526403470308\n",
      "Reg Loss: 0.009099183821203682\n"
     ]
    },
    {
     "name": "stderr",
     "output_type": "stream",
     "text": [
      "981it [29:06,  1.72s/it]"
     ]
    },
    {
     "name": "stdout",
     "output_type": "stream",
     "text": [
      "Global Loss: 0.15851269231370588\n",
      "Object Loss: 0.08015001079857456\n",
      "Reg Loss: 0.009064208372485626\n"
     ]
    },
    {
     "name": "stderr",
     "output_type": "stream",
     "text": [
      "1001it [29:42,  1.77s/it]"
     ]
    },
    {
     "name": "stdout",
     "output_type": "stream",
     "text": [
      "Global Loss: 0.15684274578472593\n",
      "Object Loss: 0.07876235519216715\n",
      "Reg Loss: 0.009040734835330036\n"
     ]
    },
    {
     "name": "stderr",
     "output_type": "stream",
     "text": [
      "1021it [30:17,  1.73s/it]"
     ]
    },
    {
     "name": "stdout",
     "output_type": "stream",
     "text": [
      "Global Loss: 0.15531277154133555\n",
      "Object Loss: 0.07748694697360305\n",
      "Reg Loss: 0.009012702557857601\n"
     ]
    },
    {
     "name": "stderr",
     "output_type": "stream",
     "text": [
      "1041it [30:52,  1.80s/it]"
     ]
    },
    {
     "name": "stdout",
     "output_type": "stream",
     "text": [
      "Global Loss: 0.15368127755956737\n",
      "Object Loss: 0.07618366103971826\n",
      "Reg Loss: 0.008979051368083808\n"
     ]
    },
    {
     "name": "stderr",
     "output_type": "stream",
     "text": [
      "1061it [31:27,  1.74s/it]"
     ]
    },
    {
     "name": "stdout",
     "output_type": "stream",
     "text": [
      "Global Loss: 0.1522611805556463\n",
      "Object Loss: 0.07506235543213623\n",
      "Reg Loss: 0.009004214094753372\n"
     ]
    },
    {
     "name": "stderr",
     "output_type": "stream",
     "text": [
      "1081it [32:04,  1.76s/it]"
     ]
    },
    {
     "name": "stdout",
     "output_type": "stream",
     "text": [
      "Global Loss: 0.1509604972307325\n",
      "Object Loss: 0.07396885495681133\n",
      "Reg Loss: 0.009040175751454708\n"
     ]
    },
    {
     "name": "stderr",
     "output_type": "stream",
     "text": [
      "1101it [32:39,  1.78s/it]"
     ]
    },
    {
     "name": "stdout",
     "output_type": "stream",
     "text": [
      "Global Loss: 0.14967648655541585\n",
      "Object Loss: 0.07284157344611272\n",
      "Reg Loss: 0.009010283501867838\n"
     ]
    },
    {
     "name": "stderr",
     "output_type": "stream",
     "text": [
      "1121it [33:15,  1.79s/it]"
     ]
    },
    {
     "name": "stdout",
     "output_type": "stream",
     "text": [
      "Global Loss: 0.14827548722793862\n",
      "Object Loss: 0.07172796455644782\n",
      "Reg Loss: 0.00897519328165384\n"
     ]
    },
    {
     "name": "stderr",
     "output_type": "stream",
     "text": [
      "1141it [33:50,  1.86s/it]"
     ]
    },
    {
     "name": "stdout",
     "output_type": "stream",
     "text": [
      "Global Loss: 0.14703299485205767\n",
      "Object Loss: 0.07068639724392127\n",
      "Reg Loss: 0.008947821989031893\n"
     ]
    },
    {
     "name": "stderr",
     "output_type": "stream",
     "text": [
      "1161it [34:26,  1.94s/it]"
     ]
    },
    {
     "name": "stdout",
     "output_type": "stream",
     "text": [
      "Global Loss: 0.1457730858978991\n",
      "Object Loss: 0.06967812690532524\n",
      "Reg Loss: 0.008914424190706831\n"
     ]
    },
    {
     "name": "stderr",
     "output_type": "stream",
     "text": [
      "1181it [35:00,  1.81s/it]"
     ]
    },
    {
     "name": "stdout",
     "output_type": "stream",
     "text": [
      "Global Loss: 0.144510924497542\n",
      "Object Loss: 0.06866397453151851\n",
      "Reg Loss: 0.008886672613572937\n"
     ]
    },
    {
     "name": "stderr",
     "output_type": "stream",
     "text": [
      "1201it [35:35,  1.71s/it]"
     ]
    },
    {
     "name": "stdout",
     "output_type": "stream",
     "text": [
      "Global Loss: 0.14341148316277055\n",
      "Object Loss: 0.06771582189976834\n",
      "Reg Loss: 0.008866642824731624\n"
     ]
    },
    {
     "name": "stderr",
     "output_type": "stream",
     "text": [
      "1221it [36:12,  1.76s/it]"
     ]
    },
    {
     "name": "stdout",
     "output_type": "stream",
     "text": [
      "Global Loss: 0.14243675866923208\n",
      "Object Loss: 0.06679984045738963\n",
      "Reg Loss: 0.008850140275127032\n"
     ]
    },
    {
     "name": "stderr",
     "output_type": "stream",
     "text": [
      "1241it [36:48,  1.82s/it]"
     ]
    },
    {
     "name": "stdout",
     "output_type": "stream",
     "text": [
      "Global Loss: 0.14133700504478766\n",
      "Object Loss: 0.06591312338971052\n",
      "Reg Loss: 0.008829456251219671\n"
     ]
    },
    {
     "name": "stderr",
     "output_type": "stream",
     "text": [
      "1261it [37:23,  1.70s/it]"
     ]
    },
    {
     "name": "stdout",
     "output_type": "stream",
     "text": [
      "Global Loss: 0.14031870200828273\n",
      "Object Loss: 0.06503575492349677\n",
      "Reg Loss: 0.00879701196853423\n"
     ]
    },
    {
     "name": "stderr",
     "output_type": "stream",
     "text": [
      "1281it [37:59,  1.82s/it]"
     ]
    },
    {
     "name": "stdout",
     "output_type": "stream",
     "text": [
      "Global Loss: 0.13931876610292762\n",
      "Object Loss: 0.06416974105446176\n",
      "Reg Loss: 0.008765291941339829\n"
     ]
    },
    {
     "name": "stderr",
     "output_type": "stream",
     "text": [
      "1282it [38:00,  1.78s/it]\n",
      "321it [05:17,  1.01it/s]\n",
      "IOPub data rate exceeded.\n",
      "The notebook server will temporarily stop sending output\n",
      "to the client in order to avoid crashing it.\n",
      "To change this limit, set the config variable\n",
      "`--NotebookApp.iopub_data_rate_limit`.\n",
      "\n",
      "Current values:\n",
      "NotebookApp.iopub_data_rate_limit=1000000.0 (bytes/sec)\n",
      "NotebookApp.rate_limit_window=3.0 (secs)\n",
      "\n",
      "100%|███████████████████████████████████████████| 10/10 [00:24<00:00,  2.42s/it]\n"
     ]
    },
    {
     "name": "stdout",
     "output_type": "stream",
     "text": [
      "Epoch: 1\n",
      "Precsion: 0.5735093309057806\n",
      "Recall: 0.9380234505862647\n",
      "MAP@50: 0.9169720042543469\n",
      "MAP@50_95: 0.5940625846033859\n"
     ]
    },
    {
     "name": "stderr",
     "output_type": "stream",
     "text": [
      "1it [00:03,  3.00s/it]"
     ]
    },
    {
     "name": "stdout",
     "output_type": "stream",
     "text": [
      "Global Loss: 0.08517027646303177\n",
      "Object Loss: 0.02456219308078289\n",
      "Reg Loss: 0.008932553231716156\n"
     ]
    },
    {
     "name": "stderr",
     "output_type": "stream",
     "text": [
      "21it [00:37,  1.72s/it]"
     ]
    },
    {
     "name": "stdout",
     "output_type": "stream",
     "text": [
      "Global Loss: 0.07684031714286123\n",
      "Object Loss: 0.010294155084661074\n",
      "Reg Loss: 0.006101048241058986\n"
     ]
    },
    {
     "name": "stderr",
     "output_type": "stream",
     "text": [
      "29it [00:51,  1.83s/it]"
     ]
    },
    {
     "name": "stdout",
     "output_type": "stream",
     "text": [
      "Cant open image\n"
     ]
    },
    {
     "name": "stderr",
     "output_type": "stream",
     "text": [
      "41it [01:11,  1.73s/it]"
     ]
    },
    {
     "name": "stdout",
     "output_type": "stream",
     "text": [
      "Global Loss: 0.0744195142533721\n",
      "Object Loss: 0.010179828170959542\n",
      "Reg Loss: 0.0065775768797299485\n"
     ]
    },
    {
     "name": "stderr",
     "output_type": "stream",
     "text": [
      "61it [01:46,  1.69s/it]"
     ]
    },
    {
     "name": "stdout",
     "output_type": "stream",
     "text": [
      "Global Loss: 0.07381356226616219\n",
      "Object Loss: 0.009953119784410372\n",
      "Reg Loss: 0.006619076698743662\n"
     ]
    },
    {
     "name": "stderr",
     "output_type": "stream",
     "text": [
      "81it [02:22,  1.96s/it]"
     ]
    },
    {
     "name": "stdout",
     "output_type": "stream",
     "text": [
      "Global Loss: 0.07384035014259963\n",
      "Object Loss: 0.009869413375624535\n",
      "Reg Loss: 0.006670562547551077\n"
     ]
    },
    {
     "name": "stderr",
     "output_type": "stream",
     "text": [
      "101it [02:58,  1.74s/it]"
     ]
    },
    {
     "name": "stdout",
     "output_type": "stream",
     "text": [
      "Global Loss: 0.07515045568937122\n",
      "Object Loss: 0.009902759095524797\n",
      "Reg Loss: 0.0067037226387880525\n"
     ]
    },
    {
     "name": "stderr",
     "output_type": "stream",
     "text": [
      "121it [03:33,  1.79s/it]"
     ]
    },
    {
     "name": "stdout",
     "output_type": "stream",
     "text": [
      "Global Loss: 0.07440816247758787\n",
      "Object Loss: 0.010144697280970118\n",
      "Reg Loss: 0.0066583910937736595\n"
     ]
    },
    {
     "name": "stderr",
     "output_type": "stream",
     "text": [
      "141it [04:08,  1.72s/it]"
     ]
    },
    {
     "name": "stdout",
     "output_type": "stream",
     "text": [
      "Global Loss: 0.0741149734256538\n",
      "Object Loss: 0.00982165110713624\n",
      "Reg Loss: 0.00665176850545438\n"
     ]
    },
    {
     "name": "stderr",
     "output_type": "stream",
     "text": [
      "161it [04:43,  1.77s/it]"
     ]
    },
    {
     "name": "stdout",
     "output_type": "stream",
     "text": [
      "Global Loss: 0.0731558954308492\n",
      "Object Loss: 0.009481294770430056\n",
      "Reg Loss: 0.0065456159204614825\n"
     ]
    },
    {
     "name": "stderr",
     "output_type": "stream",
     "text": [
      "181it [05:18,  1.73s/it]"
     ]
    },
    {
     "name": "stdout",
     "output_type": "stream",
     "text": [
      "Global Loss: 0.07240256840023547\n",
      "Object Loss: 0.009478350032316469\n",
      "Reg Loss: 0.0065840112832657866\n"
     ]
    },
    {
     "name": "stderr",
     "output_type": "stream",
     "text": [
      "201it [05:55,  1.82s/it]"
     ]
    },
    {
     "name": "stdout",
     "output_type": "stream",
     "text": [
      "Global Loss: 0.07194585883202244\n",
      "Object Loss: 0.009347676196418221\n",
      "Reg Loss: 0.006546495057206916\n"
     ]
    },
    {
     "name": "stderr",
     "output_type": "stream",
     "text": [
      "221it [06:31,  1.77s/it]"
     ]
    },
    {
     "name": "stdout",
     "output_type": "stream",
     "text": [
      "Global Loss: 0.0717760646774758\n",
      "Object Loss: 0.009374200503396638\n",
      "Reg Loss: 0.006554158057857355\n"
     ]
    },
    {
     "name": "stderr",
     "output_type": "stream",
     "text": [
      "241it [07:08,  1.83s/it]"
     ]
    },
    {
     "name": "stdout",
     "output_type": "stream",
     "text": [
      "Global Loss: 0.07157923435769141\n",
      "Object Loss: 0.009408265427605122\n",
      "Reg Loss: 0.006517458730280647\n"
     ]
    },
    {
     "name": "stderr",
     "output_type": "stream",
     "text": [
      "261it [07:43,  1.83s/it]"
     ]
    },
    {
     "name": "stdout",
     "output_type": "stream",
     "text": [
      "Global Loss: 0.0714722656398669\n",
      "Object Loss: 0.00925152972554681\n",
      "Reg Loss: 0.006510210526800247\n"
     ]
    },
    {
     "name": "stderr",
     "output_type": "stream",
     "text": [
      "281it [08:18,  1.71s/it]"
     ]
    },
    {
     "name": "stdout",
     "output_type": "stream",
     "text": [
      "Global Loss: 0.0714090013631298\n",
      "Object Loss: 0.00933303198449022\n",
      "Reg Loss: 0.006523216715798418\n"
     ]
    },
    {
     "name": "stderr",
     "output_type": "stream",
     "text": [
      "301it [08:53,  1.81s/it]"
     ]
    },
    {
     "name": "stdout",
     "output_type": "stream",
     "text": [
      "Global Loss: 0.07111129342915608\n",
      "Object Loss: 0.009287180014703411\n",
      "Reg Loss: 0.0064652225480684115\n"
     ]
    },
    {
     "name": "stderr",
     "output_type": "stream",
     "text": [
      "321it [09:28,  1.81s/it]"
     ]
    },
    {
     "name": "stdout",
     "output_type": "stream",
     "text": [
      "Global Loss: 0.07113631183391791\n",
      "Object Loss: 0.00915168463455577\n",
      "Reg Loss: 0.006496316112862244\n"
     ]
    },
    {
     "name": "stderr",
     "output_type": "stream",
     "text": [
      "341it [10:04,  1.77s/it]"
     ]
    },
    {
     "name": "stdout",
     "output_type": "stream",
     "text": [
      "Global Loss: 0.07115216092192882\n",
      "Object Loss: 0.009082981516385882\n",
      "Reg Loss: 0.006482616772252488\n"
     ]
    },
    {
     "name": "stderr",
     "output_type": "stream",
     "text": [
      "361it [10:39,  1.78s/it]"
     ]
    },
    {
     "name": "stdout",
     "output_type": "stream",
     "text": [
      "Global Loss: 0.07101951915141289\n",
      "Object Loss: 0.008981924977442482\n",
      "Reg Loss: 0.006465968541114738\n"
     ]
    },
    {
     "name": "stderr",
     "output_type": "stream",
     "text": [
      "381it [11:15,  1.76s/it]"
     ]
    },
    {
     "name": "stdout",
     "output_type": "stream",
     "text": [
      "Global Loss: 0.07128369816019153\n",
      "Object Loss: 0.008982706352398583\n",
      "Reg Loss: 0.00647560028136852\n"
     ]
    },
    {
     "name": "stderr",
     "output_type": "stream",
     "text": [
      "401it [11:49,  1.71s/it]"
     ]
    },
    {
     "name": "stdout",
     "output_type": "stream",
     "text": [
      "Global Loss: 0.07194070371234804\n",
      "Object Loss: 0.009421608741151314\n",
      "Reg Loss: 0.006510545968187235\n"
     ]
    },
    {
     "name": "stderr",
     "output_type": "stream",
     "text": [
      "421it [12:24,  1.73s/it]"
     ]
    },
    {
     "name": "stdout",
     "output_type": "stream",
     "text": [
      "Global Loss: 0.07189498790440253\n",
      "Object Loss: 0.009451879389172602\n",
      "Reg Loss: 0.006522178848444389\n"
     ]
    },
    {
     "name": "stderr",
     "output_type": "stream",
     "text": [
      "441it [12:58,  1.73s/it]"
     ]
    },
    {
     "name": "stdout",
     "output_type": "stream",
     "text": [
      "Global Loss: 0.07175881703660872\n",
      "Object Loss: 0.009402371019593814\n",
      "Reg Loss: 0.0064918563702268325\n"
     ]
    },
    {
     "name": "stderr",
     "output_type": "stream",
     "text": [
      "461it [13:33,  1.74s/it]"
     ]
    },
    {
     "name": "stdout",
     "output_type": "stream",
     "text": [
      "Global Loss: 0.0714427565190125\n",
      "Object Loss: 0.009321534011205921\n",
      "Reg Loss: 0.006470404994126547\n"
     ]
    },
    {
     "name": "stderr",
     "output_type": "stream",
     "text": [
      "481it [14:08,  1.97s/it]"
     ]
    },
    {
     "name": "stdout",
     "output_type": "stream",
     "text": [
      "Global Loss: 0.07137073275174272\n",
      "Object Loss: 0.009352252593074234\n",
      "Reg Loss: 0.0064334639957031375\n"
     ]
    },
    {
     "name": "stderr",
     "output_type": "stream",
     "text": [
      "501it [14:43,  1.72s/it]"
     ]
    },
    {
     "name": "stdout",
     "output_type": "stream",
     "text": [
      "Global Loss: 0.07158898768162061\n",
      "Object Loss: 0.009819361678661105\n",
      "Reg Loss: 0.006538982345572043\n"
     ]
    },
    {
     "name": "stderr",
     "output_type": "stream",
     "text": [
      "521it [15:19,  1.76s/it]"
     ]
    },
    {
     "name": "stdout",
     "output_type": "stream",
     "text": [
      "Global Loss: 0.07089068352346686\n",
      "Object Loss: 0.009760106445402764\n",
      "Reg Loss: 0.006539488600516932\n"
     ]
    },
    {
     "name": "stderr",
     "output_type": "stream",
     "text": [
      "541it [15:54,  1.75s/it]"
     ]
    },
    {
     "name": "stdout",
     "output_type": "stream",
     "text": [
      "Global Loss: 0.07040146466296393\n",
      "Object Loss: 0.009707553260968293\n",
      "Reg Loss: 0.006516232279640607\n"
     ]
    },
    {
     "name": "stderr",
     "output_type": "stream",
     "text": [
      "561it [16:29,  1.77s/it]"
     ]
    },
    {
     "name": "stdout",
     "output_type": "stream",
     "text": [
      "Global Loss: 0.06988618123127602\n",
      "Object Loss: 0.009591163378026263\n",
      "Reg Loss: 0.00648567690796247\n"
     ]
    },
    {
     "name": "stderr",
     "output_type": "stream",
     "text": [
      "581it [17:04,  1.80s/it]"
     ]
    },
    {
     "name": "stdout",
     "output_type": "stream",
     "text": [
      "Global Loss: 0.06962683146078903\n",
      "Object Loss: 0.009544634832094926\n",
      "Reg Loss: 0.006459380066015865\n"
     ]
    },
    {
     "name": "stderr",
     "output_type": "stream",
     "text": [
      "601it [17:39,  1.72s/it]"
     ]
    },
    {
     "name": "stdout",
     "output_type": "stream",
     "text": [
      "Global Loss: 0.0692970791518589\n",
      "Object Loss: 0.009455578893689615\n",
      "Reg Loss: 0.006418989722953238\n"
     ]
    },
    {
     "name": "stderr",
     "output_type": "stream",
     "text": [
      "621it [18:14,  1.77s/it]"
     ]
    },
    {
     "name": "stdout",
     "output_type": "stream",
     "text": [
      "Global Loss: 0.06915384124298603\n",
      "Object Loss: 0.009403570712995439\n",
      "Reg Loss: 0.006422457362835606\n"
     ]
    },
    {
     "name": "stderr",
     "output_type": "stream",
     "text": [
      "641it [18:49,  1.74s/it]"
     ]
    },
    {
     "name": "stdout",
     "output_type": "stream",
     "text": [
      "Global Loss: 0.0689269640946444\n",
      "Object Loss: 0.009401361401702819\n",
      "Reg Loss: 0.006415762585862401\n"
     ]
    },
    {
     "name": "stderr",
     "output_type": "stream",
     "text": [
      "661it [19:24,  1.72s/it]"
     ]
    },
    {
     "name": "stdout",
     "output_type": "stream",
     "text": [
      "Global Loss: 0.06871792259266805\n",
      "Object Loss: 0.009395627764584821\n",
      "Reg Loss: 0.006410304102948028\n"
     ]
    },
    {
     "name": "stderr",
     "output_type": "stream",
     "text": [
      "681it [20:00,  1.78s/it]"
     ]
    },
    {
     "name": "stdout",
     "output_type": "stream",
     "text": [
      "Global Loss: 0.06840815674650337\n",
      "Object Loss: 0.009329832770975195\n",
      "Reg Loss: 0.006406533379701243\n"
     ]
    },
    {
     "name": "stderr",
     "output_type": "stream",
     "text": [
      "701it [20:34,  1.70s/it]"
     ]
    },
    {
     "name": "stdout",
     "output_type": "stream",
     "text": [
      "Global Loss: 0.06819899901535134\n",
      "Object Loss: 0.009297965112382735\n",
      "Reg Loss: 0.006386018297057094\n"
     ]
    },
    {
     "name": "stderr",
     "output_type": "stream",
     "text": [
      "721it [21:11,  1.82s/it]"
     ]
    },
    {
     "name": "stdout",
     "output_type": "stream",
     "text": [
      "Global Loss: 0.06820910529914247\n",
      "Object Loss: 0.009357610320215128\n",
      "Reg Loss: 0.006387503592920039\n"
     ]
    },
    {
     "name": "stderr",
     "output_type": "stream",
     "text": [
      "741it [21:46,  1.85s/it]"
     ]
    },
    {
     "name": "stdout",
     "output_type": "stream",
     "text": [
      "Global Loss: 0.0680557179658117\n",
      "Object Loss: 0.00934271531571683\n",
      "Reg Loss: 0.0063811111227482275\n"
     ]
    },
    {
     "name": "stderr",
     "output_type": "stream",
     "text": [
      "761it [22:22,  1.74s/it]"
     ]
    },
    {
     "name": "stdout",
     "output_type": "stream",
     "text": [
      "Global Loss: 0.06784041119683118\n",
      "Object Loss: 0.009276090486283547\n",
      "Reg Loss: 0.006356563840401647\n"
     ]
    },
    {
     "name": "stderr",
     "output_type": "stream",
     "text": [
      "781it [22:58,  1.76s/it]"
     ]
    },
    {
     "name": "stdout",
     "output_type": "stream",
     "text": [
      "Global Loss: 0.0675038663186276\n",
      "Object Loss: 0.00920662942322188\n",
      "Reg Loss: 0.006340662988436989\n"
     ]
    },
    {
     "name": "stderr",
     "output_type": "stream",
     "text": [
      "801it [23:32,  1.76s/it]"
     ]
    },
    {
     "name": "stdout",
     "output_type": "stream",
     "text": [
      "Global Loss: 0.06746398865451081\n",
      "Object Loss: 0.009236320795098346\n",
      "Reg Loss: 0.006361117896062325\n"
     ]
    },
    {
     "name": "stderr",
     "output_type": "stream",
     "text": [
      "821it [24:10,  1.77s/it]"
     ]
    },
    {
     "name": "stdout",
     "output_type": "stream",
     "text": [
      "Global Loss: 0.06741161779222622\n",
      "Object Loss: 0.00918317892748622\n",
      "Reg Loss: 0.006335512071339715\n"
     ]
    },
    {
     "name": "stderr",
     "output_type": "stream",
     "text": [
      "841it [24:45,  1.81s/it]"
     ]
    },
    {
     "name": "stdout",
     "output_type": "stream",
     "text": [
      "Global Loss: 0.06737135192567613\n",
      "Object Loss: 0.009114762093466525\n",
      "Reg Loss: 0.006320159462049125\n"
     ]
    },
    {
     "name": "stderr",
     "output_type": "stream",
     "text": [
      "861it [25:20,  1.76s/it]"
     ]
    },
    {
     "name": "stdout",
     "output_type": "stream",
     "text": [
      "Global Loss: 0.06736243773645502\n",
      "Object Loss: 0.009110603648650002\n",
      "Reg Loss: 0.006312423748311421\n"
     ]
    },
    {
     "name": "stderr",
     "output_type": "stream",
     "text": [
      "881it [25:55,  1.70s/it]"
     ]
    },
    {
     "name": "stdout",
     "output_type": "stream",
     "text": [
      "Global Loss: 0.06736126027062586\n",
      "Object Loss: 0.009124265290758701\n",
      "Reg Loss: 0.006322842596889506\n"
     ]
    },
    {
     "name": "stderr",
     "output_type": "stream",
     "text": [
      "885it [26:02,  1.74s/it]"
     ]
    },
    {
     "name": "stdout",
     "output_type": "stream",
     "text": [
      "Cant open image\n"
     ]
    },
    {
     "name": "stderr",
     "output_type": "stream",
     "text": [
      "901it [26:30,  1.79s/it]"
     ]
    },
    {
     "name": "stdout",
     "output_type": "stream",
     "text": [
      "Global Loss: 0.06747917493972741\n",
      "Object Loss: 0.009100682444283355\n",
      "Reg Loss: 0.006318760622079824\n"
     ]
    },
    {
     "name": "stderr",
     "output_type": "stream",
     "text": [
      "921it [27:06,  1.82s/it]"
     ]
    },
    {
     "name": "stdout",
     "output_type": "stream",
     "text": [
      "Global Loss: 0.06741527924223133\n",
      "Object Loss: 0.00909766309260594\n",
      "Reg Loss: 0.00632717815429037\n"
     ]
    },
    {
     "name": "stderr",
     "output_type": "stream",
     "text": [
      "931it [27:22,  1.27s/it]"
     ]
    },
    {
     "name": "stdout",
     "output_type": "stream",
     "text": [
      "Error in training step\n"
     ]
    },
    {
     "name": "stderr",
     "output_type": "stream",
     "text": [
      "941it [27:39,  1.71s/it]"
     ]
    },
    {
     "name": "stdout",
     "output_type": "stream",
     "text": [
      "Global Loss: 0.06726411034927723\n",
      "Object Loss: 0.00902283030804841\n",
      "Reg Loss: 0.0063059461139578455\n"
     ]
    },
    {
     "name": "stderr",
     "output_type": "stream",
     "text": [
      "961it [28:14,  1.86s/it]"
     ]
    },
    {
     "name": "stdout",
     "output_type": "stream",
     "text": [
      "Global Loss: 0.06719341768960779\n",
      "Object Loss: 0.008979964104219107\n",
      "Reg Loss: 0.006296070048604937\n"
     ]
    },
    {
     "name": "stderr",
     "output_type": "stream",
     "text": [
      "981it [28:49,  1.76s/it]"
     ]
    },
    {
     "name": "stdout",
     "output_type": "stream",
     "text": [
      "Global Loss: 0.0670372604297436\n",
      "Object Loss: 0.008954409329334691\n",
      "Reg Loss: 0.006277781174451645\n"
     ]
    },
    {
     "name": "stderr",
     "output_type": "stream",
     "text": [
      "1001it [29:25,  1.79s/it]"
     ]
    },
    {
     "name": "stdout",
     "output_type": "stream",
     "text": [
      "Global Loss: 0.0669463458955288\n",
      "Object Loss: 0.008906666714930907\n",
      "Reg Loss: 0.006268506375607103\n"
     ]
    },
    {
     "name": "stderr",
     "output_type": "stream",
     "text": [
      "1021it [30:01,  1.81s/it]"
     ]
    },
    {
     "name": "stdout",
     "output_type": "stream",
     "text": [
      "Global Loss: 0.06693564835278427\n",
      "Object Loss: 0.008936155001021118\n",
      "Reg Loss: 0.006276519667338945\n"
     ]
    },
    {
     "name": "stderr",
     "output_type": "stream",
     "text": [
      "1041it [30:37,  1.84s/it]"
     ]
    },
    {
     "name": "stdout",
     "output_type": "stream",
     "text": [
      "Global Loss: 0.06681968932971358\n",
      "Object Loss: 0.008997334582202782\n",
      "Reg Loss: 0.006296722342421373\n"
     ]
    },
    {
     "name": "stderr",
     "output_type": "stream",
     "text": [
      "1055it [31:02,  1.82s/it]"
     ]
    },
    {
     "name": "stdout",
     "output_type": "stream",
     "text": [
      "Cant open image\n"
     ]
    },
    {
     "name": "stderr",
     "output_type": "stream",
     "text": [
      "1061it [31:14,  1.87s/it]"
     ]
    },
    {
     "name": "stdout",
     "output_type": "stream",
     "text": [
      "Global Loss: 0.06670168037262728\n",
      "Object Loss: 0.008983005315531045\n",
      "Reg Loss: 0.00629794645729422\n"
     ]
    },
    {
     "name": "stderr",
     "output_type": "stream",
     "text": [
      "1081it [31:49,  1.83s/it]"
     ]
    },
    {
     "name": "stdout",
     "output_type": "stream",
     "text": [
      "Global Loss: 0.06651354809809062\n",
      "Object Loss: 0.008929211531412202\n",
      "Reg Loss: 0.00628670836406484\n"
     ]
    },
    {
     "name": "stderr",
     "output_type": "stream",
     "text": [
      "1101it [32:24,  1.77s/it]"
     ]
    },
    {
     "name": "stdout",
     "output_type": "stream",
     "text": [
      "Global Loss: 0.06649785205383192\n",
      "Object Loss: 0.008963520416185599\n",
      "Reg Loss: 0.006275948073122312\n"
     ]
    },
    {
     "name": "stderr",
     "output_type": "stream",
     "text": [
      "1121it [32:59,  1.72s/it]"
     ]
    },
    {
     "name": "stdout",
     "output_type": "stream",
     "text": [
      "Global Loss: 0.06632978453167847\n",
      "Object Loss: 0.008983848426266507\n",
      "Reg Loss: 0.0062766366099822335\n"
     ]
    },
    {
     "name": "stderr",
     "output_type": "stream",
     "text": [
      "1141it [33:33,  1.74s/it]"
     ]
    },
    {
     "name": "stdout",
     "output_type": "stream",
     "text": [
      "Global Loss: 0.06614416996834048\n",
      "Object Loss: 0.00893763437082893\n",
      "Reg Loss: 0.0062559581294312685\n"
     ]
    },
    {
     "name": "stderr",
     "output_type": "stream",
     "text": [
      "1161it [34:08,  1.72s/it]"
     ]
    },
    {
     "name": "stdout",
     "output_type": "stream",
     "text": [
      "Global Loss: 0.06596409586611493\n",
      "Object Loss: 0.00889035512428281\n",
      "Reg Loss: 0.006234441587805812\n"
     ]
    },
    {
     "name": "stderr",
     "output_type": "stream",
     "text": [
      "1181it [34:42,  1.73s/it]"
     ]
    },
    {
     "name": "stdout",
     "output_type": "stream",
     "text": [
      "Global Loss: 0.06575417561866974\n",
      "Object Loss: 0.00884102504696476\n",
      "Reg Loss: 0.006217855235790613\n"
     ]
    },
    {
     "name": "stderr",
     "output_type": "stream",
     "text": [
      "1184it [34:48,  1.85s/it]"
     ]
    },
    {
     "name": "stdout",
     "output_type": "stream",
     "text": [
      "Cant open image\n"
     ]
    },
    {
     "name": "stderr",
     "output_type": "stream",
     "text": [
      "Process Process-30:\n",
      "Process Process-29:\n",
      "Process Process-28:\n",
      "Process Process-31:\n",
      "Process Process-32:\n",
      "Traceback (most recent call last):\n",
      "Traceback (most recent call last):\n",
      "Traceback (most recent call last):\n",
      "Traceback (most recent call last):\n",
      "Traceback (most recent call last):\n",
      "  File \"/home/ndubrovnyi/.conda/envs/venv/lib/python3.9/multiprocessing/process.py\", line 318, in _bootstrap\n",
      "    util._exit_function()\n",
      "  File \"/home/ndubrovnyi/.conda/envs/venv/lib/python3.9/multiprocessing/process.py\", line 318, in _bootstrap\n",
      "    util._exit_function()\n",
      "  File \"/home/ndubrovnyi/.conda/envs/venv/lib/python3.9/multiprocessing/util.py\", line 360, in _exit_function\n",
      "    _run_finalizers()\n",
      "  File \"/home/ndubrovnyi/.conda/envs/venv/lib/python3.9/multiprocessing/process.py\", line 318, in _bootstrap\n",
      "    util._exit_function()\n",
      "  File \"/home/ndubrovnyi/.conda/envs/venv/lib/python3.9/multiprocessing/process.py\", line 318, in _bootstrap\n",
      "    util._exit_function()\n",
      "  File \"/home/ndubrovnyi/.conda/envs/venv/lib/python3.9/multiprocessing/process.py\", line 318, in _bootstrap\n",
      "    util._exit_function()\n",
      "  File \"/home/ndubrovnyi/.conda/envs/venv/lib/python3.9/multiprocessing/util.py\", line 360, in _exit_function\n",
      "    _run_finalizers()\n",
      "  File \"/home/ndubrovnyi/.conda/envs/venv/lib/python3.9/multiprocessing/util.py\", line 300, in _run_finalizers\n",
      "    finalizer()\n",
      "  File \"/home/ndubrovnyi/.conda/envs/venv/lib/python3.9/multiprocessing/util.py\", line 360, in _exit_function\n",
      "    _run_finalizers()\n",
      "  File \"/home/ndubrovnyi/.conda/envs/venv/lib/python3.9/multiprocessing/util.py\", line 300, in _run_finalizers\n",
      "    finalizer()\n",
      "  File \"/home/ndubrovnyi/.conda/envs/venv/lib/python3.9/multiprocessing/util.py\", line 360, in _exit_function\n",
      "    _run_finalizers()\n",
      "  File \"/home/ndubrovnyi/.conda/envs/venv/lib/python3.9/multiprocessing/util.py\", line 360, in _exit_function\n",
      "    _run_finalizers()\n",
      "  File \"/home/ndubrovnyi/.conda/envs/venv/lib/python3.9/multiprocessing/util.py\", line 224, in __call__\n",
      "    res = self._callback(*self._args, **self._kwargs)\n",
      "  File \"/home/ndubrovnyi/.conda/envs/venv/lib/python3.9/multiprocessing/util.py\", line 300, in _run_finalizers\n",
      "    finalizer()\n",
      "  File \"/home/ndubrovnyi/.conda/envs/venv/lib/python3.9/multiprocessing/util.py\", line 224, in __call__\n",
      "    res = self._callback(*self._args, **self._kwargs)\n",
      "  File \"/home/ndubrovnyi/.conda/envs/venv/lib/python3.9/multiprocessing/util.py\", line 300, in _run_finalizers\n",
      "    finalizer()\n",
      "  File \"/home/ndubrovnyi/.conda/envs/venv/lib/python3.9/multiprocessing/util.py\", line 300, in _run_finalizers\n",
      "    finalizer()\n",
      "  File \"/home/ndubrovnyi/.conda/envs/venv/lib/python3.9/multiprocessing/queues.py\", line 199, in _finalize_join\n",
      "    thread.join()\n",
      "  File \"/home/ndubrovnyi/.conda/envs/venv/lib/python3.9/multiprocessing/queues.py\", line 199, in _finalize_join\n",
      "    thread.join()\n",
      "  File \"/home/ndubrovnyi/.conda/envs/venv/lib/python3.9/multiprocessing/util.py\", line 224, in __call__\n",
      "    res = self._callback(*self._args, **self._kwargs)\n",
      "  File \"/home/ndubrovnyi/.conda/envs/venv/lib/python3.9/threading.py\", line 1060, in join\n",
      "    self._wait_for_tstate_lock()\n",
      "  File \"/home/ndubrovnyi/.conda/envs/venv/lib/python3.9/multiprocessing/util.py\", line 224, in __call__\n",
      "    res = self._callback(*self._args, **self._kwargs)\n",
      "  File \"/home/ndubrovnyi/.conda/envs/venv/lib/python3.9/multiprocessing/util.py\", line 224, in __call__\n",
      "    res = self._callback(*self._args, **self._kwargs)\n",
      "  File \"/home/ndubrovnyi/.conda/envs/venv/lib/python3.9/threading.py\", line 1060, in join\n",
      "    self._wait_for_tstate_lock()\n",
      "  File \"/home/ndubrovnyi/.conda/envs/venv/lib/python3.9/multiprocessing/queues.py\", line 199, in _finalize_join\n",
      "    thread.join()\n",
      "  File \"/home/ndubrovnyi/.conda/envs/venv/lib/python3.9/threading.py\", line 1080, in _wait_for_tstate_lock\n",
      "    if lock.acquire(block, timeout):\n",
      "  File \"/home/ndubrovnyi/.conda/envs/venv/lib/python3.9/multiprocessing/queues.py\", line 199, in _finalize_join\n",
      "    thread.join()\n",
      "  File \"/home/ndubrovnyi/.conda/envs/venv/lib/python3.9/multiprocessing/queues.py\", line 199, in _finalize_join\n",
      "    thread.join()\n",
      "  File \"/home/ndubrovnyi/.conda/envs/venv/lib/python3.9/threading.py\", line 1080, in _wait_for_tstate_lock\n",
      "    if lock.acquire(block, timeout):\n",
      "  File \"/home/ndubrovnyi/.conda/envs/venv/lib/python3.9/threading.py\", line 1060, in join\n",
      "    self._wait_for_tstate_lock()\n",
      "KeyboardInterrupt\n",
      "  File \"/home/ndubrovnyi/.conda/envs/venv/lib/python3.9/threading.py\", line 1060, in join\n",
      "    self._wait_for_tstate_lock()\n",
      "  File \"/home/ndubrovnyi/.conda/envs/venv/lib/python3.9/threading.py\", line 1060, in join\n",
      "    self._wait_for_tstate_lock()\n",
      "KeyboardInterrupt\n",
      "  File \"/home/ndubrovnyi/.conda/envs/venv/lib/python3.9/threading.py\", line 1080, in _wait_for_tstate_lock\n",
      "    if lock.acquire(block, timeout):\n",
      "KeyboardInterrupt\n",
      "  File \"/home/ndubrovnyi/.conda/envs/venv/lib/python3.9/threading.py\", line 1080, in _wait_for_tstate_lock\n",
      "    if lock.acquire(block, timeout):\n",
      "  File \"/home/ndubrovnyi/.conda/envs/venv/lib/python3.9/threading.py\", line 1080, in _wait_for_tstate_lock\n",
      "    if lock.acquire(block, timeout):\n",
      "KeyboardInterrupt\n",
      "KeyboardInterrupt\n",
      "1184it [34:48,  1.76s/it]\n"
     ]
    },
    {
     "ename": "RuntimeError",
     "evalue": "DataLoader worker (pid 2575712) exited unexpectedly with exit code 1. Details are lost due to multiprocessing. Rerunning with num_workers=0 may give better error trace.",
     "output_type": "error",
     "traceback": [
      "\u001b[0;31m---------------------------------------------------------------------------\u001b[0m",
      "\u001b[0;31mKeyboardInterrupt\u001b[0m                         Traceback (most recent call last)",
      "File \u001b[0;32m~/new_dataset/plates_recognition/alpr/fasterrcnn_trainer.py:39\u001b[0m, in \u001b[0;36mModelTrainer.fit_epoch\u001b[0;34m(self)\u001b[0m\n\u001b[1;32m     38\u001b[0m \u001b[38;5;28;01mtry\u001b[39;00m:\n\u001b[0;32m---> 39\u001b[0m     losses \u001b[38;5;241m=\u001b[39m \u001b[38;5;28;43mself\u001b[39;49m\u001b[38;5;241;43m.\u001b[39;49m\u001b[43mmodel\u001b[49m\u001b[43m(\u001b[49m\u001b[43mimages\u001b[49m\u001b[43m,\u001b[49m\u001b[43m \u001b[49m\u001b[43mtargets\u001b[49m\u001b[43m)\u001b[49m\n\u001b[1;32m     40\u001b[0m \u001b[38;5;28;01mexcept\u001b[39;00m:\n",
      "File \u001b[0;32m~/.conda/envs/venv/lib/python3.9/site-packages/torch/nn/modules/module.py:1130\u001b[0m, in \u001b[0;36mModule._call_impl\u001b[0;34m(self, *input, **kwargs)\u001b[0m\n\u001b[1;32m   1128\u001b[0m \u001b[38;5;28;01mif\u001b[39;00m \u001b[38;5;129;01mnot\u001b[39;00m (\u001b[38;5;28mself\u001b[39m\u001b[38;5;241m.\u001b[39m_backward_hooks \u001b[38;5;129;01mor\u001b[39;00m \u001b[38;5;28mself\u001b[39m\u001b[38;5;241m.\u001b[39m_forward_hooks \u001b[38;5;129;01mor\u001b[39;00m \u001b[38;5;28mself\u001b[39m\u001b[38;5;241m.\u001b[39m_forward_pre_hooks \u001b[38;5;129;01mor\u001b[39;00m _global_backward_hooks\n\u001b[1;32m   1129\u001b[0m         \u001b[38;5;129;01mor\u001b[39;00m _global_forward_hooks \u001b[38;5;129;01mor\u001b[39;00m _global_forward_pre_hooks):\n\u001b[0;32m-> 1130\u001b[0m     \u001b[38;5;28;01mreturn\u001b[39;00m \u001b[43mforward_call\u001b[49m\u001b[43m(\u001b[49m\u001b[38;5;241;43m*\u001b[39;49m\u001b[38;5;28;43minput\u001b[39;49m\u001b[43m,\u001b[49m\u001b[43m \u001b[49m\u001b[38;5;241;43m*\u001b[39;49m\u001b[38;5;241;43m*\u001b[39;49m\u001b[43mkwargs\u001b[49m\u001b[43m)\u001b[49m\n\u001b[1;32m   1131\u001b[0m \u001b[38;5;66;03m# Do not call functions when jit is used\u001b[39;00m\n",
      "File \u001b[0;32m~/.conda/envs/venv/lib/python3.9/site-packages/torchvision/models/detection/generalized_rcnn.py:104\u001b[0m, in \u001b[0;36mGeneralizedRCNN.forward\u001b[0;34m(self, images, targets)\u001b[0m\n\u001b[1;32m    103\u001b[0m     features \u001b[38;5;241m=\u001b[39m OrderedDict([(\u001b[38;5;124m\"\u001b[39m\u001b[38;5;124m0\u001b[39m\u001b[38;5;124m\"\u001b[39m, features)])\n\u001b[0;32m--> 104\u001b[0m proposals, proposal_losses \u001b[38;5;241m=\u001b[39m \u001b[38;5;28;43mself\u001b[39;49m\u001b[38;5;241;43m.\u001b[39;49m\u001b[43mrpn\u001b[49m\u001b[43m(\u001b[49m\u001b[43mimages\u001b[49m\u001b[43m,\u001b[49m\u001b[43m \u001b[49m\u001b[43mfeatures\u001b[49m\u001b[43m,\u001b[49m\u001b[43m \u001b[49m\u001b[43mtargets\u001b[49m\u001b[43m)\u001b[49m\n\u001b[1;32m    105\u001b[0m detections, detector_losses \u001b[38;5;241m=\u001b[39m \u001b[38;5;28mself\u001b[39m\u001b[38;5;241m.\u001b[39mroi_heads(features, proposals, images\u001b[38;5;241m.\u001b[39mimage_sizes, targets)\n",
      "File \u001b[0;32m~/.conda/envs/venv/lib/python3.9/site-packages/torch/nn/modules/module.py:1130\u001b[0m, in \u001b[0;36mModule._call_impl\u001b[0;34m(self, *input, **kwargs)\u001b[0m\n\u001b[1;32m   1128\u001b[0m \u001b[38;5;28;01mif\u001b[39;00m \u001b[38;5;129;01mnot\u001b[39;00m (\u001b[38;5;28mself\u001b[39m\u001b[38;5;241m.\u001b[39m_backward_hooks \u001b[38;5;129;01mor\u001b[39;00m \u001b[38;5;28mself\u001b[39m\u001b[38;5;241m.\u001b[39m_forward_hooks \u001b[38;5;129;01mor\u001b[39;00m \u001b[38;5;28mself\u001b[39m\u001b[38;5;241m.\u001b[39m_forward_pre_hooks \u001b[38;5;129;01mor\u001b[39;00m _global_backward_hooks\n\u001b[1;32m   1129\u001b[0m         \u001b[38;5;129;01mor\u001b[39;00m _global_forward_hooks \u001b[38;5;129;01mor\u001b[39;00m _global_forward_pre_hooks):\n\u001b[0;32m-> 1130\u001b[0m     \u001b[38;5;28;01mreturn\u001b[39;00m \u001b[43mforward_call\u001b[49m\u001b[43m(\u001b[49m\u001b[38;5;241;43m*\u001b[39;49m\u001b[38;5;28;43minput\u001b[39;49m\u001b[43m,\u001b[49m\u001b[43m \u001b[49m\u001b[38;5;241;43m*\u001b[39;49m\u001b[38;5;241;43m*\u001b[39;49m\u001b[43mkwargs\u001b[49m\u001b[43m)\u001b[49m\n\u001b[1;32m   1131\u001b[0m \u001b[38;5;66;03m# Do not call functions when jit is used\u001b[39;00m\n",
      "File \u001b[0;32m~/.conda/envs/venv/lib/python3.9/site-packages/torchvision/models/detection/rpn.py:374\u001b[0m, in \u001b[0;36mRegionProposalNetwork.forward\u001b[0;34m(self, images, features, targets)\u001b[0m\n\u001b[1;32m    371\u001b[0m \u001b[38;5;66;03m# apply pred_bbox_deltas to anchors to obtain the decoded proposals\u001b[39;00m\n\u001b[1;32m    372\u001b[0m \u001b[38;5;66;03m# note that we detach the deltas because Faster R-CNN do not backprop through\u001b[39;00m\n\u001b[1;32m    373\u001b[0m \u001b[38;5;66;03m# the proposals\u001b[39;00m\n\u001b[0;32m--> 374\u001b[0m proposals \u001b[38;5;241m=\u001b[39m \u001b[38;5;28;43mself\u001b[39;49m\u001b[38;5;241;43m.\u001b[39;49m\u001b[43mbox_coder\u001b[49m\u001b[38;5;241;43m.\u001b[39;49m\u001b[43mdecode\u001b[49m\u001b[43m(\u001b[49m\u001b[43mpred_bbox_deltas\u001b[49m\u001b[38;5;241;43m.\u001b[39;49m\u001b[43mdetach\u001b[49m\u001b[43m(\u001b[49m\u001b[43m)\u001b[49m\u001b[43m,\u001b[49m\u001b[43m \u001b[49m\u001b[43manchors\u001b[49m\u001b[43m)\u001b[49m\n\u001b[1;32m    375\u001b[0m proposals \u001b[38;5;241m=\u001b[39m proposals\u001b[38;5;241m.\u001b[39mview(num_images, \u001b[38;5;241m-\u001b[39m\u001b[38;5;241m1\u001b[39m, \u001b[38;5;241m4\u001b[39m)\n",
      "File \u001b[0;32m~/.conda/envs/venv/lib/python3.9/site-packages/torchvision/models/detection/_utils.py:178\u001b[0m, in \u001b[0;36mBoxCoder.decode\u001b[0;34m(self, rel_codes, boxes)\u001b[0m\n\u001b[1;32m    177\u001b[0m     rel_codes \u001b[38;5;241m=\u001b[39m rel_codes\u001b[38;5;241m.\u001b[39mreshape(box_sum, \u001b[38;5;241m-\u001b[39m\u001b[38;5;241m1\u001b[39m)\n\u001b[0;32m--> 178\u001b[0m pred_boxes \u001b[38;5;241m=\u001b[39m \u001b[38;5;28;43mself\u001b[39;49m\u001b[38;5;241;43m.\u001b[39;49m\u001b[43mdecode_single\u001b[49m\u001b[43m(\u001b[49m\u001b[43mrel_codes\u001b[49m\u001b[43m,\u001b[49m\u001b[43m \u001b[49m\u001b[43mconcat_boxes\u001b[49m\u001b[43m)\u001b[49m\n\u001b[1;32m    179\u001b[0m \u001b[38;5;28;01mif\u001b[39;00m box_sum \u001b[38;5;241m>\u001b[39m \u001b[38;5;241m0\u001b[39m:\n",
      "File \u001b[0;32m~/.conda/envs/venv/lib/python3.9/site-packages/torchvision/models/detection/_utils.py:216\u001b[0m, in \u001b[0;36mBoxCoder.decode_single\u001b[0;34m(self, rel_codes, boxes)\u001b[0m\n\u001b[1;32m    215\u001b[0m \u001b[38;5;66;03m# Distance from center to box's corner.\u001b[39;00m\n\u001b[0;32m--> 216\u001b[0m c_to_c_h \u001b[38;5;241m=\u001b[39m \u001b[43mtorch\u001b[49m\u001b[38;5;241;43m.\u001b[39;49m\u001b[43mtensor\u001b[49m\u001b[43m(\u001b[49m\u001b[38;5;241;43m0.5\u001b[39;49m\u001b[43m,\u001b[49m\u001b[43m \u001b[49m\u001b[43mdtype\u001b[49m\u001b[38;5;241;43m=\u001b[39;49m\u001b[43mpred_ctr_y\u001b[49m\u001b[38;5;241;43m.\u001b[39;49m\u001b[43mdtype\u001b[49m\u001b[43m,\u001b[49m\u001b[43m \u001b[49m\u001b[43mdevice\u001b[49m\u001b[38;5;241;43m=\u001b[39;49m\u001b[43mpred_h\u001b[49m\u001b[38;5;241;43m.\u001b[39;49m\u001b[43mdevice\u001b[49m\u001b[43m)\u001b[49m \u001b[38;5;241m*\u001b[39m pred_h\n\u001b[1;32m    217\u001b[0m c_to_c_w \u001b[38;5;241m=\u001b[39m torch\u001b[38;5;241m.\u001b[39mtensor(\u001b[38;5;241m0.5\u001b[39m, dtype\u001b[38;5;241m=\u001b[39mpred_ctr_x\u001b[38;5;241m.\u001b[39mdtype, device\u001b[38;5;241m=\u001b[39mpred_w\u001b[38;5;241m.\u001b[39mdevice) \u001b[38;5;241m*\u001b[39m pred_w\n",
      "\u001b[0;31mKeyboardInterrupt\u001b[0m: ",
      "\nDuring handling of the above exception, another exception occurred:\n",
      "\u001b[0;31mRuntimeError\u001b[0m                              Traceback (most recent call last)",
      "Cell \u001b[0;32mIn [7], line 37\u001b[0m\n\u001b[1;32m     28\u001b[0m scheduller \u001b[38;5;241m=\u001b[39m torch\u001b[38;5;241m.\u001b[39moptim\u001b[38;5;241m.\u001b[39mlr_scheduler\u001b[38;5;241m.\u001b[39mOneCycleLR(optimizer\u001b[38;5;241m=\u001b[39moptimizer, max_lr\u001b[38;5;241m=\u001b[39mConfig[\u001b[38;5;124m'\u001b[39m\u001b[38;5;124mlr\u001b[39m\u001b[38;5;124m'\u001b[39m], \n\u001b[1;32m     29\u001b[0m                                                  steps_per_epoch\u001b[38;5;241m=\u001b[39m\u001b[38;5;28mlen\u001b[39m(train_loader), \n\u001b[1;32m     30\u001b[0m                                                 epochs\u001b[38;5;241m=\u001b[39mConfig[\u001b[38;5;124m'\u001b[39m\u001b[38;5;124mnum_epochs\u001b[39m\u001b[38;5;124m'\u001b[39m], pct_start\u001b[38;5;241m=\u001b[39m\u001b[38;5;241m0.05\u001b[39m, anneal_strategy\u001b[38;5;241m=\u001b[39m\u001b[38;5;124m'\u001b[39m\u001b[38;5;124mcos\u001b[39m\u001b[38;5;124m'\u001b[39m)\n\u001b[1;32m     33\u001b[0m model_trainer \u001b[38;5;241m=\u001b[39m ModelTrainer(model\u001b[38;5;241m=\u001b[39mfaster_rcnn_model, model_name\u001b[38;5;241m=\u001b[39mConfig[\u001b[38;5;124m'\u001b[39m\u001b[38;5;124mmodel_name\u001b[39m\u001b[38;5;124m'\u001b[39m], \n\u001b[1;32m     34\u001b[0m                              train_loader\u001b[38;5;241m=\u001b[39mtrain_loader, val_loader\u001b[38;5;241m=\u001b[39mval_loader,\n\u001b[1;32m     35\u001b[0m                             optimizer\u001b[38;5;241m=\u001b[39moptimizer, scheduller\u001b[38;5;241m=\u001b[39mscheduller, device\u001b[38;5;241m=\u001b[39mConfig[\u001b[38;5;124m'\u001b[39m\u001b[38;5;124mdevice\u001b[39m\u001b[38;5;124m'\u001b[39m], val_classes\u001b[38;5;241m=\u001b[39m[\u001b[38;5;241m1\u001b[39m])\n\u001b[0;32m---> 37\u001b[0m \u001b[43mmodel_trainer\u001b[49m\u001b[38;5;241;43m.\u001b[39;49m\u001b[43mtrain_net\u001b[49m\u001b[43m(\u001b[49m\u001b[43mnum_epochs\u001b[49m\u001b[38;5;241;43m=\u001b[39;49m\u001b[43mConfig\u001b[49m\u001b[43m[\u001b[49m\u001b[38;5;124;43m'\u001b[39;49m\u001b[38;5;124;43mnum_epochs\u001b[39;49m\u001b[38;5;124;43m'\u001b[39;49m\u001b[43m]\u001b[49m\u001b[43m)\u001b[49m\n",
      "File \u001b[0;32m~/new_dataset/plates_recognition/alpr/fasterrcnn_trainer.py:198\u001b[0m, in \u001b[0;36mModelTrainer.train_net\u001b[0;34m(self, num_epochs)\u001b[0m\n\u001b[1;32m    195\u001b[0m best_map \u001b[38;5;241m=\u001b[39m \u001b[38;5;241m0\u001b[39m\n\u001b[1;32m    196\u001b[0m \u001b[38;5;28;01mfor\u001b[39;00m epoch \u001b[38;5;129;01min\u001b[39;00m \u001b[38;5;28mrange\u001b[39m(\u001b[38;5;241m1\u001b[39m, num_epochs \u001b[38;5;241m+\u001b[39m \u001b[38;5;241m1\u001b[39m):\n\u001b[0;32m--> 198\u001b[0m     train_loss \u001b[38;5;241m=\u001b[39m \u001b[38;5;28;43mself\u001b[39;49m\u001b[38;5;241;43m.\u001b[39;49m\u001b[43mfit_epoch\u001b[49m\u001b[43m(\u001b[49m\u001b[43m)\u001b[49m\n\u001b[1;32m    199\u001b[0m     result_metrics \u001b[38;5;241m=\u001b[39m \u001b[38;5;28mself\u001b[39m\u001b[38;5;241m.\u001b[39meval_epoch()\n\u001b[1;32m    201\u001b[0m     \u001b[38;5;28;01mif\u001b[39;00m result_metrics[\u001b[38;5;124m'\u001b[39m\u001b[38;5;124mmap@50_95\u001b[39m\u001b[38;5;124m'\u001b[39m] \u001b[38;5;241m>\u001b[39m\u001b[38;5;241m=\u001b[39m best_map:\n",
      "File \u001b[0;32m~/new_dataset/plates_recognition/alpr/fasterrcnn_trainer.py:39\u001b[0m, in \u001b[0;36mModelTrainer.fit_epoch\u001b[0;34m(self)\u001b[0m\n\u001b[1;32m     37\u001b[0m \u001b[38;5;28mself\u001b[39m\u001b[38;5;241m.\u001b[39moptimizer\u001b[38;5;241m.\u001b[39mzero_grad()\n\u001b[1;32m     38\u001b[0m \u001b[38;5;28;01mtry\u001b[39;00m:\n\u001b[0;32m---> 39\u001b[0m     losses \u001b[38;5;241m=\u001b[39m \u001b[38;5;28;43mself\u001b[39;49m\u001b[38;5;241;43m.\u001b[39;49m\u001b[43mmodel\u001b[49m\u001b[43m(\u001b[49m\u001b[43mimages\u001b[49m\u001b[43m,\u001b[49m\u001b[43m \u001b[49m\u001b[43mtargets\u001b[49m\u001b[43m)\u001b[49m\n\u001b[1;32m     40\u001b[0m \u001b[38;5;28;01mexcept\u001b[39;00m:\n\u001b[1;32m     41\u001b[0m     \u001b[38;5;28mprint\u001b[39m(\u001b[38;5;124m'\u001b[39m\u001b[38;5;124mError in training step\u001b[39m\u001b[38;5;124m'\u001b[39m)\n",
      "File \u001b[0;32m~/.conda/envs/venv/lib/python3.9/site-packages/torch/utils/data/_utils/signal_handling.py:66\u001b[0m, in \u001b[0;36m_set_SIGCHLD_handler.<locals>.handler\u001b[0;34m(signum, frame)\u001b[0m\n\u001b[1;32m     63\u001b[0m \u001b[38;5;28;01mdef\u001b[39;00m \u001b[38;5;21mhandler\u001b[39m(signum, frame):\n\u001b[1;32m     64\u001b[0m     \u001b[38;5;66;03m# This following call uses `waitid` with WNOHANG from C side. Therefore,\u001b[39;00m\n\u001b[1;32m     65\u001b[0m     \u001b[38;5;66;03m# Python can still get and update the process status successfully.\u001b[39;00m\n\u001b[0;32m---> 66\u001b[0m     \u001b[43m_error_if_any_worker_fails\u001b[49m\u001b[43m(\u001b[49m\u001b[43m)\u001b[49m\n\u001b[1;32m     67\u001b[0m     \u001b[38;5;28;01mif\u001b[39;00m previous_handler \u001b[38;5;129;01mis\u001b[39;00m \u001b[38;5;129;01mnot\u001b[39;00m \u001b[38;5;28;01mNone\u001b[39;00m:\n\u001b[1;32m     68\u001b[0m         \u001b[38;5;28;01massert\u001b[39;00m callable(previous_handler)\n",
      "\u001b[0;31mRuntimeError\u001b[0m: DataLoader worker (pid 2575712) exited unexpectedly with exit code 1. Details are lost due to multiprocessing. Rerunning with num_workers=0 may give better error trace."
     ]
    }
   ],
   "source": [
    "## Запускаем обучение модели\n",
    "\n",
    "faster_rcnn_model = fasterrcnn_resnet50_fpn_v2(pretrained=True)\n",
    "in_features = faster_rcnn_model.roi_heads.box_predictor.cls_score.in_features\n",
    "faster_rcnn_model.roi_heads.box_predictor = FastRCNNPredictor(in_features, 2)\n",
    "\n",
    "    \n",
    "for param in faster_rcnn_model.backbone.body.parameters():\n",
    "    param.requires_grad = False\n",
    "    \n",
    "for param in faster_rcnn_model.backbone.body.layer4.parameters():\n",
    "    param.requires_grad = True\n",
    "    \n",
    "for name, param in faster_rcnn_model.named_parameters():\n",
    "    print(name, param.requires_grad)\n",
    "    \n",
    "\n",
    "faster_rcnn_model.to(Config['device'])\n",
    "optimizer = torch.optim.AdamW(faster_rcnn_model.parameters(), lr=Config['lr'])\n",
    "\n",
    "\n",
    "train_loader = DataLoader(trainset, batch_size=Config['batch_size'], shuffle=True, \n",
    "                          collate_fn=collate_fn, num_workers=Config['num_workers'])\n",
    "val_loader = DataLoader(valset, batch_size=Config['batch_size'], shuffle=False, \n",
    "                        collate_fn=collate_fn, num_workers=Config['num_workers'])\n",
    "\n",
    "\n",
    "scheduller = torch.optim.lr_scheduler.OneCycleLR(optimizer=optimizer, max_lr=Config['lr'], \n",
    "                                                 steps_per_epoch=len(train_loader), \n",
    "                                                epochs=Config['num_epochs'], pct_start=0.05, anneal_strategy='cos')\n",
    "\n",
    "\n",
    "model_trainer = ModelTrainer(model=faster_rcnn_model, model_name=Config['model_name'], \n",
    "                             train_loader=train_loader, val_loader=val_loader,\n",
    "                            optimizer=optimizer, scheduller=scheduller, device=Config['device'], val_classes=[1])\n",
    "\n",
    "model_trainer.train_net(num_epochs=Config['num_epochs'])"
   ]
  },
  {
   "cell_type": "markdown",
   "id": "renewable-closer",
   "metadata": {
    "pycharm": {
     "name": "#%% md\n"
    }
   },
   "source": [
    "Обучили модель деткции Faster_rcnn на 20 эпох:\n",
    "\n",
    "Лучшая метрика MAP50_95 = 77.9%     \n",
    "\n",
    "Логи обучения: 'Logs/faster_rcnn_v5.txt'"
   ]
  }
 ],
 "metadata": {
  "kernelspec": {
   "display_name": "Python 3 (ipykernel)",
   "language": "python",
   "name": "python3"
  },
  "language_info": {
   "codemirror_mode": {
    "name": "ipython",
    "version": 3
   },
   "file_extension": ".py",
   "mimetype": "text/x-python",
   "name": "python",
   "nbconvert_exporter": "python",
   "pygments_lexer": "ipython3",
   "version": "3.9.13"
  }
 },
 "nbformat": 4,
 "nbformat_minor": 5
}
